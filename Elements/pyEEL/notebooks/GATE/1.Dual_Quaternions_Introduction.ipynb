{
 "cells": [
  {
   "cell_type": "markdown",
   "metadata": {},
   "source": [
    "# Quaternions & Dual Quaternions"
   ]
  },
  {
   "cell_type": "markdown",
   "metadata": {},
   "source": [
    "## Table Of Contents <a name=\"TOP\"></a>\n",
    "\n",
    "1. [Quaternions](#Quaternions)\n",
    "    1. [Theoretical Background regarding quaternions ](#TheoreticalQuaternions)\n",
    "    2. [Conjugate, Norm and Reverse of a quaternion](#ConjugateNormReverseQuaternion)\n",
    "    3. [Unit quaternions define rotations](#UniTQuaternionsdefinerotations)\n",
    "    4. [Rotors in GA and Quaternions are equivalent](#RotorsQuaternionsEquivalency)\n",
    "    5. [Implementation of Quaternions](#QuaternionImplementation)\n",
    "2. [Dual Quaternions](#DualQuaternions)\n",
    "    1. [Theoritical Background](#TheoriticalBackgroundDual)\n",
    "    2. [Inverse of dual quaternions](#InverseDual)\n",
    "    3. [Conjugates of dual quaternions](#ConjugateDual)\n",
    "    4. [Unit Dual quaternions](#UnitDual)\n",
    "    5. [Motors in CGA and Dual Quaternions are equivalent](#MotorsDualQuaternionsEquivalency)\n",
    "    6. [How to apply rigid movements via dual quaternions](#rigidMovementDual)\n",
    "    7. [Implementations of Dual Quaternions](#ImplementationDual)\n",
    "3. [References](#References)"
   ]
  },
  {
   "cell_type": "markdown",
   "metadata": {},
   "source": [
    "# 1. Quaternions <a name=\"Quaternions\"></a>\n",
    "[Go to Top](#TOP)"
   ]
  },
  {
   "cell_type": "markdown",
   "metadata": {},
   "source": [
    "## 1.1 Theoretical Background regarding quaternions  <a name=\"TheoreticalQuaternions\"></a>\n",
    "[Go to Top](#TOP)\n",
    "\n",
    "Quaternions is an algebraic extension of Complex numbers, introduced by Hamilton in 1843. This algebraic extension, denoted by $\\mathbb{H}$, introduces two new *complex* numbers, $j$ and $k$. Therefore a typical quaternion $q$ would be\n",
    "\n",
    "$$q = \\underbrace{x\\cdot i+y\\cdot j+z\\cdot k}_{\\text{complex part}} + \\underbrace{w}_{\\text{scalar part}}$$\n",
    "\n",
    "where $x,y,z$ and $w$ are real numbers and $\\{1,i,j,k\\}$ is a basis of $\\mathbb{H}$ over the reals. Regarding the *distinct* complex numbers $i,j$ and $k$, the following properties hold\n",
    "\n",
    "1. $i^2 = j^2 = k^2 = -1$\n",
    "2. $ij = k = -ji,  jk= i = -kj, ki = j = -ik$\n",
    "\n",
    "The addition and multiplication of the quaternions $q_1=x_1i+y_1j+z_1k+w_1$ and $q_2=x_2i+y_2j+z_2k+w_2$ are defined as follows:\n",
    "\n",
    "* $q_1 + q_2 :=(x_1+x_2)i+(y_1+y_2)j+(z_1+z_2)k+(w_1+w_2)$\n",
    "* $q_1q_2 := (y_1z_2-z_1y_2)i+(z_1x_2-x_1z_2)j+(x_1y_2-y_1x_2)k+(w_1w_2-x_1x_2-y_1y_2-z_1z_2)$\n",
    "\n",
    "The multiplication of quaternions is associative but not commutative (or anticommutative), i.e., the product depends on the order of appearance of the quaternions. For example, for the quaternions $q_1=1+i+j$ and $q_2=k$, it holds that\n",
    "\n",
    "\\begin{align}\n",
    "q_1q_2 &= (1+i+j)k = k+ik+jk = k -j +i = 0 +i -j +k \\quad \\text{ whereas, }\\\\\n",
    "q_2q_1 &= k(1+i+j) = k+ki+kj = k +j -i = 0 -i +j +k,\n",
    "\\end{align}\n",
    "\n",
    "and therefore $q_1q_2\\neq q_2q_1$ and $q_1q_2\\neq -q_2q_1$.\n",
    "\n"
   ]
  },
  {
   "cell_type": "markdown",
   "metadata": {},
   "source": [
    "## 1.2 Conjugate, Norm and Reverse of a quaternion<a name=\"ConjugateNormReverseQuaternion\"></a>\n",
    "[Go to Top](#TOP)\n",
    "\n",
    "The conjugate of the quaternion $q=xi+yj+zk+w$ is defined as $q^\\star := -xi -yj -zk +w$. Note that \n",
    "if $p,q\\in\\mathbb{H}$, it holds that $(pq)^\\star = q^\\star p^\\star$. \n",
    "\n",
    "The square root of the product of a quaternion with its conjugate is called its norm and is denoted $|q|:=\\sqrt{qq^\\star}=\\sqrt{x^2+y^2+z^2+w^2}$. \n",
    "\n",
    "Since $qq^\\star = q^\\star q= |q|^2$, it holds that \n",
    "$q\\left(\\dfrac{q^\\star}{|q|^2}\\right)=\\left(\\dfrac{q^\\star}{|q|^2}\\right)q=1$ \n",
    "and therefore we deduce that the multiplicative inverse of $q \\neq 0$ is \n",
    "\n",
    "$$ q^{-1} := \\dfrac{q^\\star}{|q|^2}. $$\n",
    "\n",
    "\n",
    "**Remark** Since the quaternion algebra is not commutative, the notation $\\dfrac{p}{q}$, where $p,q\\in\\mathbb{H}$, is ambiguous; $q^{-1}p$ and $pq^{-1}$ are not equal! Therefore, fragment notation is only allowed when the denominator is a scalar.\n",
    "\n",
    "A quaternion with norm equal to 1 is called a *unit* quaternion. In this case, it's inverse is simply it's conjugate."
   ]
  },
  {
   "cell_type": "markdown",
   "metadata": {},
   "source": [
    "## 1.3 Unit quaternions define rotations<a name=\"UniTQuaternionsdefinerotations\"></a>\n",
    "[Go to Top](#TOP)\n",
    "Assuming that $q$ is a unit quaternion, it can be written as \n",
    "\n",
    "$$ q = \\cos(\\dfrac{\\theta}{2}) + \\vec{u} \\sin(\\dfrac{\\theta}{2}),$$\n",
    "\n",
    "where $\\theta\\in[0,2\\pi]$ and $\\vec{u}=u_1i+u_2j+u_3k$ is a unit vector, i.e., $u_1^2+u_2^2+u_3^2=1$. Given a vector $\\vec{v}=v_1i+v_2j+v_3k$, the product $qvq^\\star$ is the vector that results from rotating $\\vec{v}$ through the angle $\\theta$ about an axis *through the origin* in the direction of $\\vec{u}$. It is therefore apparent that a unit quaternion encapsulates the power of rotation. \n",
    "\n",
    "Multiple rotations are quite easy to handle using quaternions. Suppose $p$ is another unit quaternion and we \n",
    "would like to first apply to the vector $\\vec{v}$ the rotation represented by $q$ and afterwards the rotation represented by p. The resulting vector would be\n",
    "\n",
    "$$v' = p(qvq^\\star)p^\\star = (pq)v(pq)^\\star,$$\n",
    "\n",
    "thus the result would be the same as that of applying the rotation defined by the quaternion product $pq$.\n",
    "\n"
   ]
  },
  {
   "cell_type": "markdown",
   "metadata": {},
   "source": [
    "## 1.4 Rotors in GA and Quaternions are equivalent <a name=\"RotorsQuaternionsEquivalency\"></a>\n",
    "[Go to Top](#TOP)\n",
    "\n",
    "A rotor $R$ can be expressed as \n",
    "\n",
    "\\begin{align}\n",
    "R &= cos(\\frac{\\phi}{2}) - uI_3sin(\\frac{\\phi}{2}) \\\\\n",
    "  &= cos(\\frac{\\phi}{2}) - (u_1e_1+u_2e_2+u_3e_3)e_1e_2e_3sin(\\frac{\\phi}{2}) \\\\\n",
    "  &= cos(\\frac{\\phi}{2}) - \\left( (u_3sin(\\frac{\\phi}{2}))e_1e_2 -(u_2sin(\\frac{\\phi}{2}))e_1e_3 + (u_1sin(\\frac{\\phi}{2}))e_2e_3 \\right) \\\\\n",
    "\\end{align}\n",
    "\n",
    "and therefore is of the form $$R = r_0+r_1 e_1e_2 + r_2e_1e_3 + r_3e_2e_3 = r_0+r_1i+r_2j+r_3k,$$ \n",
    "\n",
    "where $i=e_1\\wedge e_2=e_1e_2, j=e_1\\wedge e_3=e_1e_3$ and $k=e_2\\wedge e_3=e_2e_3$ ($e_ie_j$ denotes the geometric product of $e_i$ and $e_j$). This remark proves that rotors in GA and quaternions are equivalent; a normalization process of the quaternions is however required for the equivalence to hold."
   ]
  },
  {
   "cell_type": "markdown",
   "metadata": {},
   "source": [
    "## 1.5 Implementation of Quaternions<a name=\"QuaternionImplementation\"></a>\n",
    "[Go to Top](#TOP)"
   ]
  },
  {
   "cell_type": "markdown",
   "metadata": {},
   "source": [
    "We will be using `quaternion.py` from [HERE](https://github.com/ethz-asl/hand_eye_calibration/tree/master/hand_eye_calibration/python/hand_eye_calibration)\n",
    "which is found at `Elements/Elements/features/GA`."
   ]
  },
  {
   "cell_type": "code",
   "execution_count": null,
   "metadata": {},
   "outputs": [],
   "source": [
    "import sys\n",
    "\n",
    "# path to module files\n",
    "sys.path.insert(1, '../python_files/') # insert at 1, 0 is the script path (or '' in REPL)\n",
    "\n",
    "\n",
    "from Elements.features.GA.quaternion import *"
   ]
  },
  {
   "cell_type": "code",
   "execution_count": null,
   "metadata": {},
   "outputs": [],
   "source": [
    "import numpy as np\n",
    "import numpy.testing as npt"
   ]
  },
  {
   "cell_type": "code",
   "execution_count": null,
   "metadata": {
    "tags": []
   },
   "outputs": [],
   "source": [
    "q1 = Quaternion(1, 2, 3, 4) # = 1i+2j+3k+4\n",
    "q2 = Quaternion(4,5,6,7)\n",
    "print(q1)\n",
    "print(q2)\n",
    "\n",
    "print((q1+q2))\n",
    "print(q1*3)\n",
    "print(q1/2)"
   ]
  },
  {
   "cell_type": "code",
   "execution_count": null,
   "metadata": {
    "tags": []
   },
   "outputs": [],
   "source": [
    "print(q1.conjugate())\n",
    "print(q1.inverse())\n",
    "print(q1.norm()) # print(q1.conjugate()*q1) <-- sqrt of w"
   ]
  },
  {
   "cell_type": "code",
   "execution_count": null,
   "metadata": {
    "tags": []
   },
   "outputs": [],
   "source": [
    "print(q1*q2)\n",
    "print(q1/q2)\n",
    "# print(q1*q2.inverse())\n",
    "npt.assert_almost_equal((q1/q2).q, (q1*q2.inverse()).q)"
   ]
  },
  {
   "cell_type": "code",
   "execution_count": null,
   "metadata": {
    "tags": []
   },
   "outputs": [],
   "source": [
    "q3 = Quaternion(2, 2, 2, 2)\n",
    "print(q3/q3.norm())\n",
    "q3.normalize()\n",
    "print(q3)"
   ]
  },
  {
   "cell_type": "code",
   "execution_count": null,
   "metadata": {
    "tags": []
   },
   "outputs": [],
   "source": [
    "q = Quaternion(1, 1, 1, 1)\n",
    "q.normalize()\n",
    "print(q)\n",
    "rotated_vector = q.rotate_vector(np.array([4, 5, 6])) # expect (6,4,5)\n",
    "print(rotated_vector)"
   ]
  },
  {
   "cell_type": "code",
   "execution_count": null,
   "metadata": {
    "tags": []
   },
   "outputs": [],
   "source": [
    "q = Quaternion(0.5, 0.5, 0.5, 0.5)\n",
    "transformation_matrix = q.to_transformation_matrix()\n",
    "print(transformation_matrix)"
   ]
  },
  {
   "cell_type": "code",
   "execution_count": null,
   "metadata": {
    "tags": []
   },
   "outputs": [],
   "source": [
    "q_1 = Quaternion(np.sqrt(2.) / 2., 0, 0, np.sqrt(2.) / 2.)\n",
    "q_2 = Quaternion(0, 0, 0, 1)\n",
    "angle = angle_between_quaternions(q_1, q_2)\n",
    "print(angle) # should be pi/2\n",
    "print(np.pi/2)"
   ]
  },
  {
   "cell_type": "code",
   "execution_count": null,
   "metadata": {
    "tags": []
   },
   "outputs": [],
   "source": [
    "angle = 2*np.pi/3\n",
    "axis = np.array([1,1,1])\n",
    "# axis.normalize()\n",
    "# print(axis)\n",
    "r = Quaternion.from_angle_axis(angle, axis)\n",
    "print(r)\n"
   ]
  },
  {
   "cell_type": "code",
   "execution_count": null,
   "metadata": {
    "tags": []
   },
   "outputs": [],
   "source": [
    "import warnings\n",
    "warnings.filterwarnings('ignore')\n",
    "\n",
    "from clifford.g3c import *\n",
    "from clifford.tools.g3 import *\n",
    "from clifford.tools.g3c import *\n",
    "from pyganja import *\n",
    "\n",
    "angle = 2*np.pi/3\n",
    "axis = np.array([1,1,1])\n",
    "r = Quaternion.from_angle_axis(angle, axis)\n",
    "q = Quaternion(3, 4, 5, 0)\n",
    "\n",
    "q2=r*q*r.conjugate()\n",
    "print(q2) # expect [5,3,4]\n",
    "\n",
    "\n",
    "p1=(q.x)*e1+(q.y)*e2+(q.z)*e3 \n",
    "p2=(q2.x)*e1+(q2.y)*e2+(q2.z)*e3 \n",
    "axis_point = (axis[0])*e1+(axis[1])*e2+(axis[2])*e3 \n",
    "gs = GanjaScene()\n",
    "gs.add_objects([up(p1)],color=Color.RED) # original point, RED\n",
    "gs.add_objects([up(p2)],color=Color.BLUE) # rotated point, BLUE\n",
    "\n",
    "axis_point = (axis[0])*e1+(axis[1])*e2+(axis[2])*e3\n",
    "gs.add_objects([up(10*axis_point)^up(0)],color=Color.GREEN) # Axis of rotation\n",
    "\n",
    "draw (gs,scale=0.25)"
   ]
  },
  {
   "cell_type": "markdown",
   "metadata": {},
   "source": [
    "# 2. Dual Quaternions <a name=\"DualQuaternions\"></a>\n",
    "[Go to Top](#TOP)"
   ]
  },
  {
   "cell_type": "markdown",
   "metadata": {},
   "source": [
    "## 2.1 Theoritical Background <a name=\"TheoriticalBackgroundDual\"></a>\n",
    "[Go to Top](#TOP)\n",
    "\n",
    "A dual quaternion $d$ is a a dual number of the form $ d = p + \\epsilon q $,\n",
    "where $p,q\\in\\mathbb{H}$ are quaternions and $\\epsilon\\neq 0$ satisfies $\\epsilon^2 = 0$. \n",
    "The quaternions $p$ and $q$ are called the *real* and *dual* part of $d$ respectively.\n",
    "\n",
    "If $d_1 = p_1 + \\epsilon q_1$ and $d_2 = p_2 + \\epsilon q_2$ are dual quaternions then we can \n",
    "easily determine their sum and product:\n",
    "\n",
    "1. $d_1 + d_2 = (p_1+p_2) + \\epsilon (q_1+q_2),$\n",
    "2. $d_1d_2 = (p_1 + \\epsilon q_1)(p_2 + \\epsilon q_2) = p_1p_2+ \\epsilon (p_1q_2+q_1p_2)+ \\epsilon^2 q_1q_2 = \n",
    "p_1p_2+ \\epsilon (p_1q_2 + q_1p_2)$\n",
    "\n",
    "Note that Quaternion algebra is not commutative, e.g., $p_iq_j\\neq q_jp_i$ for $\\{i,j\\}\\in\\{1,2\\}$. \n",
    "Consequently, Dual Quaternion algebra is not commutative; the product depends on the order of the appearance of the dual quaternions.\n"
   ]
  },
  {
   "cell_type": "markdown",
   "metadata": {},
   "source": [
    "## 2.2 Inverse of dual quaternions<a name=\"InverseDual\"></a>\n",
    "[Go to Top](#TOP)\n",
    "\n",
    "The inverse of  $d = p + \\epsilon q$, where $\\mathbb{H}\\ni p\\neq 0$, is \n",
    "\n",
    "$$d^{-1} := p^{-1}(1-\\epsilon qp^{-1}) = p^{-1}-\\epsilon p^{-1}qp^{-1}. $$\n",
    "\n",
    "It can easily be checked that $dd^{-1}=d^{-1}d=1$. In case $p=0$ then $d=\\epsilon q$ does not have an inverse. "
   ]
  },
  {
   "cell_type": "markdown",
   "metadata": {},
   "source": [
    "## 2.3 Conjugates of dual quaternions<a name=\"ConjugateDual\"></a>\n",
    "\n",
    "There are multiple types of conjugates for $d = p + \\epsilon q$, where $p,q\\in\\mathbb{H}$. \n",
    "\n",
    "The two most used conjugates are \n",
    "\n",
    "$$ d^\\star := p^\\star + \\epsilon q^\\star \\qquad\\text{ and } \\qquad d^\\diamond := p^\\star - \\epsilon q^\\star.$$\n",
    "\n",
    "Let $p=p_0 + p_1i+p_2j+p_3k$ and $q=q_0 + q_1i + q_2j + q_3k$, where $p_i,q_i\\in\\mathbb{R}$, the following properties hold.\n",
    "\n",
    "1. $(d_1d_2)^\\star = d_2^\\star d_1^\\star$ \n",
    "2. $(d_1d_2)^\\diamond = d_2^\\diamond d_1^\\diamond$\n",
    "3. $dd^\\star = (p^2_0+p^2_1+p^2_2+p^2_3)+2\\epsilon (p_0q_0+p_1q_1+p_2q_2+p_3q_3)$\n",
    "4. $dd^\\diamond = pp^\\star + \\epsilon (qp^\\star - pq^\\star) \n",
    "= pp^\\star + \\epsilon \\left(qp^\\star - (qp^\\star)^\\star\\right)$\n",
    "\n"
   ]
  },
  {
   "cell_type": "markdown",
   "metadata": {},
   "source": [
    "## 2.4 Unit Dual quaternions <a name=\"UnitDual\"></a>\n",
    "[Go to Top](#TOP)\n",
    "\n",
    "The dual quaternion $d = p + \\epsilon q$ is called *unit* iff $dd^\\star=1$ or equivalently if\n",
    "\n",
    "$$p^2_0+p^2_1+p^2_2+p^2_3 = 1 \\qquad \\text{ and } \\qquad p_0q_0+p_1q_1+p_2q_2+p_3q_3 = 0. $$\n",
    "\n",
    "A unit dual quaternion's $d$ inverse is $d^\\star$. \n",
    "The set of all dual quaternions form a six-dimensional submanifold of $\\mathbb{R}^8$ since the \n",
    "degrees of freedom are 6 = 8 (original) - 2 (due to the conditions for being unit). Note that this is in accordance with the fact that rigid movements in 3D have 6 degrees of freedom, as we will prove later that there is an equivalence between the two classes!"
   ]
  },
  {
   "cell_type": "markdown",
   "metadata": {},
   "source": [
    "## 2.5 Motors in CGA and Dual Quaternions are equivalent <a name=\"MotorsDualQuaternionsEquivalency\"></a>\n",
    "[Go to Top](#TOP)\n",
    "\n",
    "\n",
    "\n",
    "A Motor $M$ can be expressed as the geometric product of a Rotor $R$ and a Translator $T$. Let us rewrite $T$ as\n",
    "\n",
    "$$T = 1 - \\frac{1}{2}te_{\\infty} = 1 - \\frac{1}{2}(t_1e_1+t_2e_2+t_3e_3)e_{\\infty} \n",
    "= 1 + u_1e_1e_{\\infty} + + u_2e_2e_{\\infty}+ u_3e_3e_{\\infty}$$ \n",
    "\n",
    "and recall that a rotor $R$ is of the form\n",
    "\n",
    "$$R = r_0+r_1 e_1e_2 + r_2e_1e_3 + r_3e_2e_3$$.\n",
    "\n",
    "We now evaluate the motor \n",
    "\n",
    "\\begin{align}\n",
    "M &= TR = (1 + u_1e_1e_{\\infty} + + u_2e_2e_{\\infty}+ u_3e_3e_{\\infty})(r_0+r_1 e_1e_2 + r_2e_1e_3 + r_3e_2e_3)\\\\\n",
    "&= \\cdots \\\\\n",
    "&= R + (m_0 e_1e_2e_3e_{\\infty} + m_1 e_{\\infty}e_1 + m_2 e_{\\infty}e_2 + m_3 e_{\\infty}e_3) \\\\\n",
    "&= R + (m_0 \\epsilon + m_1 i\\epsilon + m_2 j\\epsilon + m_3 k\\epsilon) \\qquad\\qquad\\qquad (\\text{where } \\epsilon:=e_1e_2e_3e_{\\infty})\\\\\n",
    "&= R + (m_0 \\epsilon + m_1 \\epsilon i + m_2 \\epsilon j + m_3 \\epsilon k)\\\\\n",
    "&=  \\underbrace{\\underbrace{R}_{\\text{quaternion}} + \\epsilon \\underbrace{(m_0 + m_1 i + m_2 j + m_3 k)}_{\\text{quaternion}}}_{\\text{dual quaternion}} \\qquad\\qquad (\\text{Note that } \\epsilon^2 = 0 \\text{ since } e_{\\infty}^2=0 )\\\\\n",
    "\\end{align}\n",
    "\n",
    "and therefore we have proven that motors and dual quaternions are equivalent in CGA. *To be precise*, unit dual quaternions are equivalent to rigid motions."
   ]
  },
  {
   "cell_type": "markdown",
   "metadata": {},
   "source": [
    "## 2.6 How to apply rigid movements via dual quaternions<a name=\"rigidMovementDual\"></a>\n",
    "[Go to Top](#TOP)\n",
    "\n",
    "Let $r=\\cos(\\theta /2)+\\vec{u}\\sin(\\theta /2)$ a quaternion that represents a rotation about a unit vector $\\vec{u}$ by an angle $\\theta$. The conjugate of $r$ is $r^\\star := \\cos(\\theta /2) - \\vec{u}\\sin(\\theta /2) $ and it holds that $rr^\\star= r^\\star r = 1$. \n",
    "\n",
    "If $v = v_1 i + v_2 j + v_3 k$ represents a point then the point $rvr^\\star$ represents the image of $v$ after the rotation defined by $r$.\n",
    "\n",
    "After the introduction of dual quaternions, the quaternion $r$ can be viewed as the dual quaternion $r+ 0 \\epsilon$. To perform a rotation to a point represented by the vector $v$ **we do not consider it** as the dual quaternion $v+ 0 \\epsilon$ but rather as $1+v\\epsilon$. A special conjugate of a dual quaternion $d = q_1+q_2\\epsilon$ is defined as $d^\\diamond := q_1^\\star - q_2^\\star \\epsilon$. If $q_2$ equals 0, then it holds that $q_1^\\diamond=(q_1+0\\epsilon)^\\diamond = q_1^\\star-0^\\star\\epsilon = q_1^\\star$, i.e., if a quaternion is viewed as a dual quaternion then the two conjugates coincide. \n",
    "\n",
    "**Rotations**\n",
    "To perform a rotation defined by $r+0\\epsilon$ to a point $1+v\\epsilon$ we evaluate \n",
    "\n",
    "$$r(1+v)r^\\diamond = r(1+v\\epsilon)r^\\star = rr^\\star+(rvr^\\star)\\epsilon = 1+(rvr^\\star)\\epsilon,$$ \n",
    "\n",
    "which is indeed the point $rvr^\\star$, i.e., the rotated point if quaternions where used.\n",
    "\n",
    "**Translations**\n",
    "To translate a point $1+v\\epsilon$ by a vector $t$, we use the dual quaternion $T := 1+\\dfrac{t}{2}\\epsilon$ and evaluate\n",
    "\n",
    "\\begin{align}\n",
    "T(1+v\\epsilon)T^\\diamond \n",
    "&= (1+\\dfrac{t}{2}\\epsilon)(1+v\\epsilon)(1^\\star-\\dfrac{t^\\star}{2}\\epsilon) \\\\\n",
    "&= (1+\\dfrac{t}{2}\\epsilon)(1+v\\epsilon)(1^\\star+\\dfrac{t}{2}\\epsilon) \\qquad (\\text{since } t^\\star = -t) \\\\\n",
    "&= 1+(v+t)\\epsilon,\n",
    "\\end{align}\n",
    "\n",
    "which corresponds to the point $v+t$ which is indeed the original point $v$ translated by $t$. \n",
    "\n",
    "**Rigid Motions**\n",
    "If we want to rotate a point by a quaternion $r$ and then translate it by $t$ we could simply use the dual quaternion\n",
    "\n",
    "$$M = (1+\\dfrac{t}{2}\\epsilon)r = r + \\dfrac{tr}{2}\\epsilon$$ \n",
    "\n",
    "and evaluate\n",
    "\n",
    "\\begin{align}\n",
    "M(1+v\\epsilon)M^\\diamond \n",
    "&= (r+\\dfrac{tr}{2}\\epsilon)(1+v\\epsilon)(r^\\star-\\dfrac{(tr)^\\star}{2}\\epsilon) \\\\\n",
    "&= (r+\\dfrac{tr}{2}\\epsilon)(1+v\\epsilon)(r^\\star-\\dfrac{r^\\star t^\\star}{2}\\epsilon) \n",
    "\\qquad (\\text{since } (tr)^\\star = r^\\star t^\\star) \\\\\n",
    "&= rr^\\star+ \\left(\\dfrac{1}{2}(trr^\\star-rr^\\star t^\\star) + rvr^\\star \\right)\\epsilon \\\\\n",
    "&= 1+ \\left(\\dfrac{1}{2}(t-t^\\star) + rvr^\\star \\right)\\epsilon \\qquad \n",
    "(\\text{since } rr^\\star=1) \\\\\n",
    "&= 1+ \\left(t + rvr^\\star \\right)\\epsilon \\qquad \n",
    "(\\text{since } t^\\star = -t ) \\\\\n",
    "\\end{align}\n",
    "\n",
    "which corresponds to the point $rvr^\\star+t$ which is indeed the original point $v$ first rotated by $r$ and then translated by $t$. \n",
    "\n",
    "\n",
    "**Remark** The dual quaternion $M$ is unit since\n",
    "\n",
    "\\begin{align}\n",
    "MM^\\star \n",
    "&= (r+\\dfrac{\\epsilon}{2}tr)(r^\\star+\\dfrac{\\epsilon}{2}(tr)^\\star) \\\\\n",
    "&= (r+\\dfrac{\\epsilon}{2}tr)(r^\\star+\\dfrac{\\epsilon}{2}r^\\star t^\\star) \\\\\n",
    "&= rr^\\star+ \\dfrac{\\epsilon}{2}(rr^\\star t^\\star + t rr^\\star )  \\\\\n",
    "&= 1+ \\dfrac{\\epsilon}{2}(t^\\star + t)  \\qquad (\\text{since } rr^\\star=1) \\\\\n",
    "&= 1 \\qquad (\\text{since } t^\\star = -t ) \n",
    "\\end{align}\n",
    "\n",
    "On the other hand, if $M = p + \\epsilon q$ is a unit quaternion, we can extract the rotation $r$ and translation $t$ quaternions: \n",
    "\n",
    "$$ r = p \\qquad \\text{ and } \\qquad t = 2qp^\\star $$\n",
    "\n",
    "This is again indicative that unit dual quaternions and motors (aka rigid movements) are equivalent!"
   ]
  },
  {
   "cell_type": "markdown",
   "metadata": {},
   "source": [
    "## 2.7 Implementations of Dual Quaternions<a name=\"ImplementationDual\"></a>\n",
    "[Go to Top](#TOP)"
   ]
  },
  {
   "cell_type": "markdown",
   "metadata": {},
   "source": [
    "We will be using `dual_quaternion.py` from [HERE](https://github.com/ethz-asl/hand_eye_calibration/tree/master/hand_eye_calibration/python/hand_eye_calibration)\n",
    "which is found at `Elements/Elements/features/GA`."
   ]
  },
  {
   "cell_type": "code",
   "execution_count": null,
   "metadata": {},
   "outputs": [],
   "source": [
    "from Elements.features.GA.dual_quaternion import *\n",
    "from Elements.features.GA.dual_quaternion import *"
   ]
  },
  {
   "cell_type": "code",
   "execution_count": null,
   "metadata": {},
   "outputs": [],
   "source": [
    "import numpy as np\n",
    "import numpy.testing as npt"
   ]
  },
  {
   "cell_type": "code",
   "execution_count": null,
   "metadata": {},
   "outputs": [],
   "source": [
    "q1 = Quaternion(1, 2, 3, 4) # = 1i+2j+3k+4\n",
    "q2 = Quaternion(5,6,7,8) # = 5i+6j+7k+8\n",
    "dq1 = DualQuaternion(q1,q2) # = 1i+2j+3k+4 + epsilon*(5i+6j+7k+8)\n",
    "dq2 = DualQuaternion(q1-q2,2*q2+q1)\n",
    "dq1"
   ]
  },
  {
   "cell_type": "code",
   "execution_count": null,
   "metadata": {
    "tags": []
   },
   "outputs": [],
   "source": [
    "print(dq2)\n",
    "print(dq1)\n",
    "\n",
    "print(dq1.r_x)\n",
    "print(dq1.r_y)\n",
    "print(dq1.r_z)\n",
    "print(dq1.r_w)\n",
    "print(dq1.t_x)\n",
    "print(dq1.t_y)\n",
    "print(dq1.t_z)\n",
    "print(dq1.t_w)"
   ]
  },
  {
   "cell_type": "code",
   "execution_count": null,
   "metadata": {
    "tags": []
   },
   "outputs": [],
   "source": [
    "print(dq1.conjugate())\n",
    "print(dq1.inverse())\n",
    "print(dq1.norm())"
   ]
  },
  {
   "cell_type": "code",
   "execution_count": null,
   "metadata": {
    "tags": []
   },
   "outputs": [],
   "source": [
    "print(dq1*dq2)\n",
    "print(dq1/dq2)\n",
    "print(dq1*dq2.inverse())\n",
    "print(dq1/2)\n",
    "# npt.assert_almost_equal((q1/q2).q, (q1*q2.inverse()).q)"
   ]
  },
  {
   "cell_type": "markdown",
   "metadata": {},
   "source": [
    "## Translations via Dual Quaternions"
   ]
  },
  {
   "cell_type": "code",
   "execution_count": null,
   "metadata": {
    "tags": []
   },
   "outputs": [],
   "source": [
    "# we want to translate the point (5,3,2) by t = (2,3,14) \n",
    "qt = Quaternion(2, 3, 14, 0) \n",
    "qp = Quaternion(5, 3, 2, 0) \n",
    "qI = Quaternion(0, 0, 0, 1) \n",
    "T_dq = DualQuaternion(qI,0.5*qt) \n",
    "point_dq = DualQuaternion(qI,qp) \n",
    "T_dq_prime = T_dq.conjugate_translation() # conjugate with square in paper\n",
    "\n",
    "translated_point_dq = T_dq*point_dq*T_dq_prime # we apply the transformation pattern\n",
    "\n",
    "print('T_dq: ',T_dq)\n",
    "print('T_dq_prime: ',T_dq_prime)\n",
    "# print(point_dq)\n",
    "# print(translated_point_dq)\n",
    "print('translated point: ', translated_point_dq.q_dual.q[0:3]) # the translated point\n",
    "\n"
   ]
  },
  {
   "cell_type": "code",
   "execution_count": null,
   "metadata": {},
   "outputs": [],
   "source": [
    "import warnings\n",
    "warnings.filterwarnings('ignore')\n",
    "\n",
    "from clifford.g3c import *\n",
    "from clifford.tools.g3 import *\n",
    "from clifford.tools.g3c import *\n",
    "from pyganja import *\n",
    "\n",
    "\n",
    "p1=(qp.x)*e1+(qp.y)*e2+(qp.z)*e3   # point to be translated\n",
    "fp = translated_point_dq.q_dual # final point\n",
    "p2=(fp.x)*e1+(fp.y)*e2+(fp.z)*e3 \n",
    "\n",
    "gs = GanjaScene()\n",
    "gs.add_objects([up(p1)],color=Color.RED) # original point, RED\n",
    "gs.add_objects([up(p2)],color=Color.BLUE) # final point, BLUE\n",
    "draw (gs,scale=0.25)"
   ]
  },
  {
   "cell_type": "markdown",
   "metadata": {},
   "source": [
    "## Rotations via Dual Quaternions\n",
    "[Go to Top](#TOP)"
   ]
  },
  {
   "cell_type": "code",
   "execution_count": null,
   "metadata": {
    "tags": []
   },
   "outputs": [],
   "source": [
    "angle = 2*np.pi/3\n",
    "axis = np.array([1,1,1])\n",
    "qr = Quaternion.from_angle_axis(angle, axis) # rotation Quaternion\n",
    "R_dq = DualQuaternion(qr,Quaternion(0,0,0,0)) # \n",
    "R_dq_prime = R_dq.conjugate_translation() # conjugate with square in paper\n",
    "print(R_dq)\n",
    "\n",
    "qp2 = Quaternion(5, 3, 2, 0) \n",
    "qI = Quaternion(0, 0, 0, 1) \n",
    "point_dq2 = DualQuaternion(qI,qp2) \n",
    "\n",
    "\n",
    "rotated_point_dq2 = R_dq*point_dq2*R_dq_prime # we apply the transformation pattern\n",
    "print('initial point: ',point_dq2.q_dual)\n",
    "# print(rotated_point_dq2) # need to clean real quaternion part TODO(mk)\n",
    "print('rotated point: ',rotated_point_dq2.q_dual)"
   ]
  },
  {
   "cell_type": "code",
   "execution_count": null,
   "metadata": {},
   "outputs": [],
   "source": [
    "import warnings\n",
    "warnings.filterwarnings('ignore')\n",
    "\n",
    "from clifford.g3c import *\n",
    "from clifford.tools.g3 import *\n",
    "from clifford.tools.g3c import *\n",
    "from pyganja import *\n",
    "\n",
    "\n",
    "p1=(qp2.x)*e1+(qp2.y)*e2+(qp2.z)*e3   # point to be translated\n",
    "fp = rotated_point_dq2.q_dual # final_point\n",
    "p2=(fp.x)*e1+(fp.y)*e2+(fp.z)*e3 \n",
    "\n",
    "gs = GanjaScene()\n",
    "gs.add_objects([up(p1)],color=Color.RED) # original point, RED\n",
    "gs.add_objects([up(p2)],color=Color.BLUE) # final point, BLUE\n",
    "\n",
    "axis_point = (axis[0])*e1+(axis[1])*e2+(axis[2])*e3\n",
    "gs.add_objects([up(10*axis_point)^up(0)],color=Color.GREEN) # Axis of rotation\n",
    "\n",
    "draw (gs,scale=0.25)"
   ]
  },
  {
   "cell_type": "markdown",
   "metadata": {},
   "source": [
    "## Rigid Movements (AKA Motors) via Dual Quaternions \n",
    "[Go to Top](#TOP)"
   ]
  },
  {
   "cell_type": "code",
   "execution_count": null,
   "metadata": {
    "tags": []
   },
   "outputs": [],
   "source": [
    "angle = 2*np.pi/3\n",
    "axis = np.array([1,1,1])\n",
    "qr = Quaternion.from_angle_axis(angle, axis) # rotation Quaternion\n",
    "R_dq = DualQuaternion(qr,Quaternion(0,0,0,0)) # rotation DualQuaternion\n",
    "\n",
    "qt = Quaternion(2, 3, 14, 0) \n",
    "T_dq = DualQuaternion(qI,0.5*qt) # translation DualQuaternion\n",
    "\n",
    "qp3 = Quaternion(5, 3, 2, 0) \n",
    "qI = Quaternion(0, 0, 0, 1) \n",
    "point_dq3 = DualQuaternion(qI,qp3) \n",
    "\n",
    "RM = T_dq*R_dq # rigid movement \n",
    "RM_prime = RM.conjugate_translation()\n",
    "print(RM)\n",
    "\n",
    "new_point_dq3 = RM*point_dq3*RM_prime # we apply the transformation pattern\n",
    "print('initial point: ',point_dq3.q_dual)\n",
    "print('rotated point: ',new_point_dq3.q_dual) \n",
    "#(5,3,2)--after rotation --> (2,5,3)--after translate --> (2,5,3)+ (2,3,14) = (4,8,17) CORRECT !!"
   ]
  },
  {
   "cell_type": "code",
   "execution_count": null,
   "metadata": {},
   "outputs": [],
   "source": [
    "import warnings\n",
    "warnings.filterwarnings('ignore')\n",
    "\n",
    "from clifford.g3c import *\n",
    "from clifford.tools.g3 import *\n",
    "from clifford.tools.g3c import *\n",
    "from pyganja import *\n",
    "\n",
    "\n",
    "p1=(qp3.x)*e1+(qp3.y)*e2+(qp3.z)*e3   # point to be translated\n",
    "fp = new_point_dq3.q_dual # final_point\n",
    "p2=(fp.x)*e1+(fp.y)*e2+(fp.z)*e3 \n",
    "gs = GanjaScene()\n",
    "gs.add_objects([up(p1)],color=Color.RED) # original point, RED\n",
    "gs.add_objects([up(p2)],color=Color.BLUE) # final point, BLUE\n",
    "\n",
    "axis_point = (axis[0])*e1+(axis[1])*e2+(axis[2])*e3\n",
    "gs.add_objects([up(10*axis_point)^up(0)],color=Color.GREEN) # Axis of rotation\n",
    "\n",
    "draw (gs,scale=0.25)"
   ]
  },
  {
   "cell_type": "markdown",
   "metadata": {},
   "source": [
    "### Checking for Unit Dual Quaternions\n",
    "[Go to Top](#TOP)"
   ]
  },
  {
   "cell_type": "code",
   "execution_count": null,
   "metadata": {
    "tags": []
   },
   "outputs": [],
   "source": [
    "dq3_rot  = Quaternion(2, 2, 2, 2)\n",
    "dq3_dual = Quaternion(3, 4, 4, 6)\n",
    "dq3 = DualQuaternion(dq3_rot,dq3_dual)\n",
    "\n",
    "print(dq3.norm())\n",
    "\n",
    "dq3.normalize()\n",
    "print(dq3)\n",
    "print(dq3.norm())\n",
    "print(dq3.is_normalized()) \n",
    "# returns False! -- > It is not a  unit dual quaternion hence does not correspond to rigid movement.\n",
    "\n"
   ]
  },
  {
   "cell_type": "markdown",
   "metadata": {},
   "source": [
    "**REMARK** The function `is_normalized` returns `TRUE` iff the dual quaternion is a **unit** and therefore does not correspond to a rigid movement (rotation and/or translation)."
   ]
  },
  {
   "cell_type": "markdown",
   "metadata": {},
   "source": [
    "### Angle, Axis and Translation Vectors to Unit Dual Quaternion\n",
    "[Go to Top](#TOP)"
   ]
  },
  {
   "cell_type": "code",
   "execution_count": null,
   "metadata": {
    "tags": []
   },
   "outputs": [],
   "source": [
    "angle = 2*np.pi/3\n",
    "axis = np.array([1,1,1])\n",
    "# axis.normalize()\n",
    "# print(axis)\n",
    "q = Quaternion.from_angle_axis(angle, axis)\n",
    "print(q)\n",
    "t = Quaternion(1,1,1,0) # translation_vector (1,1,1,0)\n",
    "\n",
    "\n",
    "dq = DualQuaternion.from_pose(t.x,t.y,t.z,q.x,q.y,q.z,q.w)\n",
    "print(dq)\n",
    "\n",
    "print(dq.to_pose())\n",
    "\n",
    "print(dq.is_normalized()) # returns True! -- > einai unit dual quaternion kai ara antistoixei se rigid movement"
   ]
  },
  {
   "cell_type": "code",
   "execution_count": null,
   "metadata": {
    "tags": []
   },
   "outputs": [],
   "source": [
    "def from_angle_axis_translation(angle,axis,trans):\n",
    "    \"\"\" \n",
    "    Constructs a (unit) dual quaternion that corresponds to first to a rotation \n",
    "    around an axis by a given angle and then a translation towards the trans vector\n",
    "    \"\"\"\n",
    "    q = Quaternion.from_angle_axis(angle, axis)\n",
    "    return DualQuaternion.from_pose(trans[0],trans[1],trans[2],q.x,q.y,q.z,q.w)\n",
    "\n",
    "myangle = 2*np.pi/3\n",
    "myaxis = np.array([1,1,1])\n",
    "myt = np.array([0,0,2])\n",
    "\n",
    "mydq = from_angle_axis_translation(myangle,myaxis,myt)\n",
    "print( mydq )\n",
    "\n"
   ]
  },
  {
   "cell_type": "markdown",
   "metadata": {},
   "source": [
    "### Angle, Axis and Translation Vectors From Unit Dual Quaternion\n",
    "[Go to Top](#TOP)"
   ]
  },
  {
   "cell_type": "code",
   "execution_count": null,
   "metadata": {
    "tags": []
   },
   "outputs": [],
   "source": [
    "def to_angle_axis_translation(dq):\n",
    "    \"\"\" \n",
    "    Deconstructs a (unit) dual quaternion that corresponds to first to a rotation \n",
    "    around an axis by a given angle and then a translation towards the trans vector. \n",
    "    The function returns the angle, the (unit) axis, and the translation vector.\n",
    "    \"\"\"\n",
    "    mydq = dq.copy()\n",
    "#     mydq.normalize()\n",
    "    if ( not mydq.is_normalized):\n",
    "        print('The dual quaternion is not unit and therefore it does not correspond to a rigid movement')\n",
    "    else:\n",
    "        t = mydq.to_pose()[0:3]\n",
    "        r = mydq.to_pose()[3:7]\n",
    "        qr = Quaternion(r[0],r[1],r[2],r[3])\n",
    "        axis = qr.angle_axis()[0:3]\n",
    "        angle= qr.angle_axis()[3]\n",
    "        return angle, axis, t\n",
    "\n",
    "print('Dual Quaternion: ', mydq)\n",
    "print('angle: ', to_angle_axis_translation(mydq)[0])\n",
    "print('axis of rotation: ', to_angle_axis_translation(mydq)[1])\n",
    "print('translation vector: ', to_angle_axis_translation(mydq)[2])"
   ]
  },
  {
   "cell_type": "markdown",
   "metadata": {},
   "source": [
    "### Dual Quaternions to bivectors\n",
    "[Go to Top](#TOP)\n",
    "Let us import all the required packages to have bivectors, in order to express a dual quaternion as a bivector."
   ]
  },
  {
   "cell_type": "code",
   "execution_count": null,
   "metadata": {},
   "outputs": [],
   "source": [
    "import warnings\n",
    "\n",
    "from clifford.g3c import *\n",
    "from clifford.tools.g3c import *\n",
    "from clifford import Cl, conformalize\n",
    "\n",
    "G3, blades_g3 = Cl(3)\n",
    "G3c, blades_g3c, stuff = conformalize(G3)\n",
    "locals().update(blades_g3c)"
   ]
  },
  {
   "cell_type": "code",
   "execution_count": null,
   "metadata": {
    "tags": []
   },
   "outputs": [],
   "source": [
    "mydq = DualQuaternion.from_vector([1,2,3,4,4,3,-2,-1])\n",
    "print('dq : ', mydq)\n",
    "def dq_to_bivector(dq):\n",
    "    \"\"\" \n",
    "    Returns the bivector form of a dual quaternion dq\n",
    "    \n",
    "    Remarks: \n",
    "    i = e1^e2 = e12\n",
    "    j = e3^e1 = -e13\n",
    "    k = e2^e3 = e23\n",
    "    i*epsilon = einf^e3 = -e34-e35 \n",
    "    j*epsilon = einf^e2 = -e24-e25 \n",
    "    k*epsilon = einf^e1 = -e14-e15\n",
    "    epsilon = e1^e2^e3^einf = e1234+e1235\n",
    "    \"\"\"\n",
    "    return dq.r_x*e12 - dq.r_y*e13 + dq.r_z*e23 + dq.r_w \\\n",
    "           + dq.t_x*(-e34-e35) + dq.t_y*(-e24-e25) + dq.t_z*(-e14-e15) + dq.t_w*(e1234+e1235)\n",
    "\n",
    "bivector = dq_to_bivector(mydq) # the bivector that corresponds to the dual quaternion mydq\n",
    "print('bv : ', bivector)\n"
   ]
  },
  {
   "cell_type": "markdown",
   "metadata": {},
   "source": [
    "### Bivectors to Dual Quaternions\n",
    "[Go to Top](#TOP)"
   ]
  },
  {
   "cell_type": "code",
   "execution_count": null,
   "metadata": {
    "tags": []
   },
   "outputs": [],
   "source": [
    "def bivector_to_dq(bv):\n",
    "    \"\"\" \n",
    "    Returns the dual quaternion dq that corresponds to the bivector bv\n",
    "    \n",
    "    Remarks: \n",
    "    i = e1^e2 = e12\n",
    "    j = e3^e1 = -e13\n",
    "    k = e2^e3 = e23\n",
    "    i*epsilon = einf^e3 = -e34-e35 \n",
    "    j*epsilon = einf^e2 = -e24-e25 \n",
    "    k*epsilon = einf^e1 = -e14-e15\n",
    "    epsilon = e1^e2^e3^einf = e1234+e1235\n",
    "    \n",
    "    Since bv is assumed to be a dq, all other blades coefficients are supposed to equal 0\n",
    "    and the coefficients of e1234 must equal the one of e1235 and \n",
    "    \"\"\"\n",
    "    \n",
    "#     bv_copy = bv\n",
    "#     assert( bv_copy[e1234] == bv_copy[e1235] )\n",
    "#     assert( bv_copy[e14] == bv_copy[e15] )\n",
    "#     assert( bv_copy[e24] == bv_copy[e25] )\n",
    "#     assert( bv_copy[e34] == bv_copy[e35] )\n",
    "    assert( bv[e1234] == bv[e1235] )  # due to epsilon \n",
    "    assert( bv[e14] == bv[e15] ) # due to k*epsilon \n",
    "    assert( bv[e24] == bv[e25] ) # due to j*epsilon \n",
    "    assert( bv[e34] == bv[e35] ) # due to i*epsilon \n",
    "    assert( bv.odd.clean() == 0) # round odd part --> it should be 0, i.e., no odd vectors in bv\n",
    "    \n",
    "#     DQ = Qr + Qd * epsilon\n",
    "#     # Qr coordinates\n",
    "#     rx =  bv_copy[e12]\n",
    "#     ry= -bv_copy[e13]\n",
    "#     rz=  bv_copy[e23]\n",
    "#     rw=  bv_copy[0] \n",
    "#     # Qd coordinates\n",
    "#     dx= -bv_copy[e34]\n",
    "#     dy= -bv_copy[e24]\n",
    "#     dz= -bv_copy[e14]\n",
    "#     dw=  bv_copy[e1234] \n",
    "#     return  DualQuaternion.from_vector([rx,ry,rz,rw,dx,dy,dz,dw])\n",
    "\n",
    "    return  DualQuaternion.from_vector([bv[e12],-bv[e13],bv[e23],bv[0],-bv[e34],-bv[e24],-bv[e14],bv[e1234]])\n",
    "\n",
    "\n",
    "\n",
    "print(bivector_to_dq(bivector))"
   ]
  },
  {
   "cell_type": "code",
   "execution_count": null,
   "metadata": {},
   "outputs": [],
   "source": [
    "## USEFUL BIVECTOR COMMANDS\n",
    "# print(bivector.even)\n",
    "# print(bivector.odd==0)\n",
    "# print(bivector[e1234]) # mas kanei se sindiasmo me tin list apo tin entoli blades\n",
    "# # blades\n",
    "# print(bivector.blades_list)"
   ]
  },
  {
   "cell_type": "markdown",
   "metadata": {},
   "source": [
    "## What is done via DualQuaternions can be done with the respective bivectors\n",
    "[Go to Top](#TOP)"
   ]
  },
  {
   "cell_type": "code",
   "execution_count": null,
   "metadata": {
    "tags": []
   },
   "outputs": [],
   "source": [
    "\n",
    "print(dq_to_bivector(point_dq))\n",
    "print(dq_to_bivector(T_dq))\n",
    "# print(dq_to_bivector(T_dq)*dq_to_bivector(point_dq)*(~dq_to_bivector(T_dq)))\n",
    "print(dq_to_bivector(T_dq)*dq_to_bivector(point_dq)*dq_to_bivector(T_dq_prime))\n",
    "print(dq_to_bivector(translated_point_dq))\n",
    "\n",
    "\n",
    "# print(dq_to_bivector(T_dq_prime))\n",
    "# print(~dq_to_bivector(T_dq))"
   ]
  },
  {
   "cell_type": "markdown",
   "metadata": {},
   "source": [
    "Moment of a line vector explained in here:\n",
    "\n",
    "http://www.maths.usyd.edu.au/u/MOW/vectors/vectors-14/v-14-2.html"
   ]
  },
  {
   "cell_type": "markdown",
   "metadata": {},
   "source": [
    "## 3. References <a name=\"References\"></a>\n",
    "[Go to Top](#TOP)\n",
    "\n",
    "The source of `quaternion.py` and `dualquaternion.py` is [HERE](https://github.com/ethz-asl/hand_eye_calibration/tree/master/hand_eye_calibration/python/hand_eye_calibration)\n",
    "\n",
    "Interesting Articles Connecting Dual Quaternoins with Graphics: \n",
    "\n",
    "* [3D kinematic using dual quaternions: theory andapplications in neuroscience](https://www.ncbi.nlm.nih.gov/pmc/articles/PMC3576712/pdf/fnbeh-07-00007.pdf)\n",
    "* [Hand-Eye Calibration Using Dual Quaternions](http://dx.doi.org/10.1177/02783649922066213)\n",
    "* [Geometric skinning with approximate dual quaternion blending](https://dl.acm.org/doi/10.1145/1409625.1409627)"
   ]
  }
 ],
 "metadata": {
  "kernelspec": {
   "display_name": "elements",
   "language": "python",
   "name": "elements"
  },
  "language_info": {
   "codemirror_mode": {
    "name": "ipython",
    "version": 3
   },
   "file_extension": ".py",
   "mimetype": "text/x-python",
   "name": "python",
   "nbconvert_exporter": "python",
   "pygments_lexer": "ipython3",
   "version": "3.8.16"
  }
 },
 "nbformat": 4,
 "nbformat_minor": 4
}
