{
 "cells": [
  {
   "cell_type": "markdown",
   "metadata": {},
   "source": [
    "# Geometric algebra for Computer Graphics\n",
    "## Αn all-in-one mathematical framework for virtual character rendering, animation, interpolation, deformation, cutting and tearing"
   ]
  },
  {
   "cell_type": "markdown",
   "metadata": {},
   "source": [
    "# Table of contents <a name=\"TOP\"></a>\n",
    "1. [State Of The Art](#StateOfTheArt)\n",
    "1. [3D CGA: A step beyond the dual-quaternions](#BeyondStateOfTheArt)\n",
    "1. [The Euclidean Space](#Euclidean)\n",
    "2. [Conformal Geometric Algebra - Introduction](#CGA-INTRO)\n",
    "1. [Vector Objects](#CGA-VectorObjects)\n",
    "    1. [Points](#CGA-Points)\n",
    "    1. [Spheres](#CGA-Spheres)\n",
    "    1. [Planes](#CGA-Planes)\n",
    "2. [Clifford Implementation for Vector Objects](#Clifford-VectorObjects)\n",
    "    1. [Points](#Clifford-Points)\n",
    "    1. [Spheres](#Clifford-Spheres)\n",
    "    1. [Planes](#Clifford-Planes)\n",
    "3. [Products in CGA](#Products)\n",
    "    1. [Inner](#Products-Inner)\n",
    "    1. [Geometric](#Products-Geometric)\n",
    "        1. [Duality](#Duality)\n",
    "    1. [Outer](#Products-Outer)\n",
    "4. [Circles As Intersection Of Spheres](#CirclesAsIntersectionOfSpheres)\n",
    "5. [Lines As Intersection Of Planes](#LinesAsIntersectionOfPlanes)\n",
    "6. [PointPairs As Intersection Of Spheres](#PointPairsAsIntersectionOfSpheres)\n",
    "7. [Dual Objects](#DualObjects)\n",
    "    1. [Dual Sphere](#DualObjects-Sphere)\n",
    "    1. [Dual Circle](#DualObjects-Circle)\n",
    "    1. [Dual Plane](#DualObjects-Plane)\n",
    "    1. [Dual Line](#DualObjects-Line)\n",
    "8. [Complex Numbers Are Bivectors in CGA](#ComplexNumbersAreBivectors)\n",
    "8. [Translators](#Translators)\n",
    "8. [Rotors](#Rotors)\n",
    "8. [Dilations](#Dilations)\n",
    "8. [Motors](#Motors)\n",
    "8. [Rotating lines & Circles](#Rotating)\n",
    "        "
   ]
  },
  {
   "cell_type": "markdown",
   "metadata": {},
   "source": [
    "## 1. State of the art  <a name=\"StateOfTheArt\"></a>\n",
    "[Go to Top](#TOP)"
   ]
  },
  {
   "cell_type": "markdown",
   "metadata": {},
   "source": [
    "The current state-of-the-art regarding virtual character rendering, animation, interpolation and deformation is dual quaternions [1](#1). Using dual quaternions allows translations of points and rotations (with respect to any axis, even the ones not going through the origin) to be applied in a single framework and with great efficiency. It also helps avoid problems such as the gimbals lock that arise when using Euler angles and provides an elegant representation of rigid motions if seen as a rotation followed by a translation (often called *screw motion* [2](#2)). \n",
    "\n",
    "Dual quaternions are the combination of dual numbers (introduced by Clifford) with quaternions (nicely written  introduction in [4](#4) and [3](#3)). This fusion allowed the implementation of translations under a single framework (see [3](#3)). Such a task was not possible before via the use of quaternions alone; it also required the use of matrices and/or vectors. This combined use of quaternions and matrices also required translating quaternions to vectors and vice-versa, which induced more memory usage and created major interpolation problems. \n",
    "\n",
    "An algebra that contains dual quaternions as a sub-algebra is the so called Conformal Geometric Algebra (CGA). In CGA two new products are introduced: the *outer* and the *geometric* one. Entities such as spheres, planes, circles, points are easily seen both as objects and operators in this algebra (see [6](#6) and [7](#7)). In this algebra, we can interpolate around any axis and transform all entities as objects and not simply point by point. \n",
    "\n",
    "|Methodology   |  Rotation   |  Translation   |  Dilation    |   Notes/ Issues     |\n",
    "|---------------|:---------------:|:------------------:|:---------------:|:-----------------:|\n",
    "|Euler Angles / Transformation Matrices | &#x2714; | Matrices only | Matrices only |  Gimbal lock, problem when interpolating |\n",
    "|Quaternions  | &#x2714;  |  &#x2718;  |  &#x2718;  |  Interpolated only at the origin, all rotation axis through origin |\n",
    "|Dual-Quaternions  |  &#x2714;  |  &#x2714;  |  &#x2718;  | Interpolation only at the origin, transform points only, no dilation |\n",
    "|3D PGA |  &#x2714;  |  &#x2714; |  &#x2718;  |  No dilation|\n",
    "|3D CGA |  &#x2714;  |  &#x2714; |  &#x2714;  |  Interpolate around any axis, transform any entity|\n",
    "\n",
    "\n",
    "[1] ( L. Kavan, S. Collins, J.Žára, and C. O'Sullivan. **Skinning with dual quaternions**. In Proceedings of the 2007 symposium on Interactive 3D graphics and games, pages 39–46.ACM, 2007)\n",
    "@@@ this section describes the existing bibliography with images\n",
    "\n",
    "[2] (Daniilidis, K. (2016). **Hand-Eye Calibration Using Dual Quaternions**. The International Journal of Robotics Research, 18(3), 286–298. http://doi.org/10.1177/02783649922066213)\n",
    "\n",
    "[3] (Kenwright, B. (2012). **A beginners guide to dual-quaternions: what they are, how they work, and how to use them for 3D character hierarchies**.)\n",
    "\n",
    "[4] (YB, Jia. **Dual Quaternions**. http://web.cs.iastate.edu/~cs577/handouts/dual-quaternion.pdf) \n",
    "\n",
    "[5] (H. Hadfield and J. Lasenby. Direct Linear Interpolation of Geometric Objects in Conformal Geometric Algebra)\n",
    "\n",
    "[6] (Leo Dorst, Daniel Fontijne, Stephen Mann.Geometric Algebra for Computer Science)\n",
    "\n",
    "[7] (Dietmar Hildenbrand. Foundations of Geometric Algebra Computing)"
   ]
  },
  {
   "cell_type": "markdown",
   "metadata": {},
   "source": [
    "## 3D CGA: A step beyond the dual-quaternions <a name=\"BeyondStateOfTheArt\"></a>\n",
    "[Go to Top](#TOP)"
   ]
  },
  {
   "cell_type": "markdown",
   "metadata": {},
   "source": [
    "A major drawback of dual quaternions is the fact that they do not support scaling in a native way. This drawback can be overcome with the use of Geometric Algebra and specifically Conformal Geometric Algebra (see [7,8]). CGA contains both quaternion and dual-quaternion algebras as sub-algebras with the main difference that (dual) quaternion multiplication is replaced by the so-called *geometric product*. Therefore, after translating all dual quaternions to the respective elements of CGA, called *multivectors*, one can take advantage of all tools provided by quaternions. The translation is naive as we simply have to translate all base elements of one algebra to another, as shown in the following table:\n",
    "\n",
    "| Element of dual quaternion | Respective element in CGA |\n",
    "|:--------------------------:|:-------------------------:|\n",
    "| 1  |  1  |\n",
    "| $i$ | $e_1\\wedge e_2$ | \n",
    "| $j$ |$-e_1\\wedge e_3$ | \n",
    "| $k$ |$e_2\\wedge e_3$ | \n",
    "| $i\\epsilon$ |$ e_3\\wedge e_\\infty$ | \n",
    "| $j\\epsilon$ |$ e_2\\wedge e_\\infty$ | \n",
    "| $k\\epsilon$ |$ e_1\\wedge e_\\infty$ | \n",
    "| $i\\epsilon$ |$ e_1\\wedge e_2\\wedge e_3\\wedge e_\\infty$ | \n",
    "\n",
    "**Example** The dual quaternion  $d = 3 +2i +\\epsilon( 4j + k )$ corresponds in CGA to the multivector $D = 3 + 2 e_1\\wedge e_2 + 4 e_2\\wedge e_\\infty + e_1\\wedge e_\\infty$.\n",
    "\n",
    "In CGA, entities like points, planes, spheres, circles and lines can be easily represented as multivectors, i.e., linear combinations of the base elements \n",
    "$\\{1,e_1,e_2,e_3,e_0,e_\\infty, e_1\\wedge e_2, \\ldots, e_1\\wedge e_2 \\wedge e_3, \\ldots, I:= e_1\\wedge e_2 \\wedge e_3 \\wedge e_0 \\wedge e_\\infty\\}$. Rotors and rigid movements that corresponded to quaternions and dual quaternions respectively can also be represented as multivectors. Most importantly, dilations can also be represented as multivectors. Ultimately, \n",
    "if $D$ represents a deformation (rotor, motor, dilation or any combination of these three) in CGA and $E$ is any of the aforementioned entities in CGA, the new entity $E':=DE\\tilde{D}$, where $\\tilde{D}$ is the *reverse* of $D$, is the entity that results after applying $D$ to $E$. Note that the operation implied between $D$, $E$ and $\\tilde{D}$ is the geometric product of multivectors. In the reverse of a multivector the blades are with reversed order of their outer product components, for instance the reverse of $1 + e_1\\wedge e_2$ is equal to $1+e_2\\wedge e_1$ or $1-e_1\\wedge e_2$.\n",
    "\n",
    "Being able to apply rotations, translations and dilation in a uniform way in so many entities, and not just points, is an extraordinary tool. It saves us from the need to translate our objects back and forth from dual quaternionic form to matrices and provides a straightforward way to apply any deformation in a way that easily encapsulates all corresponding information. Furthermore, interpolations can be easily defined and also include interpolation on axis that do not go throught the origin, which is a major restriction in dual quaternions. \n",
    "\n",
    "[7] Dorst et al. **Geometric algebra for computer science: an object-oriented approach to geometry. (2010). Geometric algebra for computer science: an object-oriented approach to geometry**. \n",
    "\n",
    "[8] Doran et al. **Geometric algebra for physicists. (2003). Geometric algebra for physicists**.\n"
   ]
  },
  {
   "cell_type": "markdown",
   "metadata": {},
   "source": [
    "The following table summarizes our GA algorithms for virtual character animation interpolation and deformation"
   ]
  },
  {
   "cell_type": "markdown",
   "metadata": {},
   "source": [
    "| Algorithms    | Symbolic (Python modules)   | Performance (C++/GPU)  |\n",
    "| ------------- |:-------------:              |-----:|\n",
    "| QUAT - LBS    | Quaternions.py / Quaternions + GAOnline        | glGA |\n",
    "| DQUAT - DQS   | DualQuaternions.py  + GAOnline/pyganja       | glGA |\n",
    "| EGA - EGS     | Clifford + GAOnline/pyganja         | glGA |\n",
    "| CGA - CGS     | Clifford + GAOnline/pyganja          | glGA |"
   ]
  },
  {
   "cell_type": "markdown",
   "metadata": {},
   "source": [
    "*Table Abbreviations:*\n",
    "- **QUAT LBS  : Quaternion - Linear Blend Skinning,** \n",
    "*N. Magnenat-Thalmann, R. Laperrire, and D. Thalmann. Joint-dependent local deformations for hand animation and object grasping. In Proceedings on Graphics interface’88. Citeseer, 1988*\n",
    "- **DQUAT DQS : Dual quaternion - Dual Quaternion Skinning,** \n",
    "*L. Kavan, S. Collins, J.Žára, and C. O'Sullivan. Skinning with dual quaternions. In Proceedings of the 2007 symposium on Interactive 3D graphics and games, pages 39–46.ACM, 2007*\n",
    "- **EGA EGS   : Euclidian Geometric Algenra - Euclidean Geometric Skinning,** \n",
    "*Papagiannakis G. Geometric algebra rotors for skinned character animation blending. Technical Brief, ACM SIGGRAPH ASIA 2013, Hong Kong, November 2013. September 2013:1-6.*\n",
    "- **CGA CGS   : Conformal Geometric Algebra - Conformal Geometric Skinning,** \n",
    "*Papaefthymiou M, Hildenbrand D, Papagiannakis G. An inclusive Conformal Geometric Algebra GPU animation interpolation and deformation algorithm. Vis Comput. 2016;32(6-8):1-9. doi:10.1007/s00371-016-1270-8.*"
   ]
  },
  {
   "cell_type": "markdown",
   "metadata": {},
   "source": [
    "## 3. The Euclidean Space<a name=\"Euclidean\"></a>\n",
    "[Go to Top](#TOP)\n",
    "\n"
   ]
  },
  {
   "cell_type": "markdown",
   "metadata": {},
   "source": [
    "In the 3-Dimensional Euclidean space, let $\\{e_1,e_2,e_3\\}$ denote the orthonormal basis of $\\mathbb{R}_3$. Then it is known that\n",
    "\n",
    "* A point $p$ is represented as $(x_p,y_p,z_p)$.\n",
    "* A line $\\ell$ is represented as $p+s\\cdot\\vec{t}=(x_p,y_p,z_p)+s(x_t,y_t,z_t), s\\in\\mathbb{R}$ where $p$ is a point on the line and $t$ is a vector parallel to $\\ell$.\n",
    "* A plane $\\Pi$ is represented as $\\{ p\\in\\mathbb{R}_3:\\vec{n}\\cdot(p-p_0)=0 \\}$ or equivalently $\\{(x_p,y_p,z_p)\\in\\mathbb{R}_3:x_n\\cdot x_p+y_n\\cdot y_p+z_n\\cdot z_p=x_n\\cdot x_0+y_n\\cdot y_0+z_n\\cdot z_0\\}$, where $\\vec{n}=(x_n,y_n,z_n)$ is a vector perpendicular to $\\Pi$ and $p_0=(x_0,y_0,z_0)$ is a point on the plane. \n",
    "* A sphere $S$ is the locus of points $p=(x_p,y_p,z_p)\\in\\mathbb{R}_3$ such that $(x_p-x_C)^2+(y_p-y_C)^2+(z_p-z_C)^2 = r^2$, where $C=(x_C,y_C,z_C)$ is the center of the sphere and $r$ is its radius\n",
    "* A circle in 3 dimensions is difficult to be explicitly defined algebraicly. It can be viewed algebraicly as the intersection of a sphere with either a sphere or a plane.  \n",
    "* A rotation in 3 dimensions can be described via explicitely via the axis and the angle of rotation or implicitely via Euler Angles and Matrices.\n",
    "* A dilation in 3 dimensions can be described only for vectors/points as a multiplication of a vector with a scale factor.\n",
    "* A translation in 3 dimensions can be described and implemented, depending on the object that is translated. For example, to translate a plane we simply translate the point $p_0$ on the plane but not the perpendicular vector, whereas translating a circle requires (complete) reevaluation of the algebraic expression.  \n",
    "\n",
    "It is apparent that the Euclidean space, introduced a naive way of perceiving and implementing various geometric entities. However, as objects become more complicated, their representation and the ability to transform them becomes non-trivial. Our need to simplify translations, rotations and dilations of such objects led to the so-called *Conformal Geometric Algebra*."
   ]
  },
  {
   "cell_type": "markdown",
   "metadata": {},
   "source": [
    "## 4. Conformal Geometric Algebra - Introduction <a name=\"CGA-INTRO\"></a>\n",
    "[Go to Top](#TOP)"
   ]
  },
  {
   "cell_type": "markdown",
   "metadata": {},
   "source": [
    "Conformal Geometric Algebra (CGA) is a projective geometry tool which allows conformal transformations to be implemented with rotations.   To do this,  the original space, in our case $\\mathbb{R}^3$, is extended by two dimensions, one of positive signature $e_+$ and one of negative signature $e_-$. Thus, if we started with $G_p$,  the conformal space is  $G_{p+1,1}$, i.e., in our case $\\mathbb{R}_{4,1}$.  \n",
    "\n",
    "It is convenient to define a *null* basis given by the original vectors $e_1,e_2,e_3$ of $\\mathbb{R}^3$ and \n",
    "\n",
    "$$e_{o} = \\frac{1}{2}(e_{-} -e_{+}), \\ \\ \\ \\   e_{\\infty} = e_{-}+e_{+}.$$\n",
    "\n"
   ]
  },
  {
   "cell_type": "markdown",
   "metadata": {},
   "source": [
    "## 5. Vector objects in $\\mathbb{R}_{4,1}$      \n",
    "<a name=\"CGA-VectorObjects\"></a>\n",
    "\n",
    "[Go to Top](#TOP)\n",
    "\n",
    "A generic vector $Y$ in the 3D-CGA is a linear combination of these vectors\n",
    "\n",
    "$$Y = y_1e_1+y_2e_2+y_3e_3+y_{\\infty}e_{\\infty}+y_oe_o, \\ \\ \\ y_i\\in\\mathbb{R}.$$ \n",
    "\n",
    "Note that since we are in a projection space there is an equivalence relation, i.e., the objects $Y$ and $Z$ are equivalent iff there is a $\\lambda\\in\\mathbb{R}$ such that $y_i=\\lambda z_i$ for all $i$. Due to this equivalence, we usually assume, without loss of generality, that the coordinate of $e_o$ is either 0 or 1. \n",
    "\n",
    "In CGA, points, spheres and planes are easily expressed as vector objects."
   ]
  },
  {
   "cell_type": "markdown",
   "metadata": {},
   "source": [
    "### 5.A Points <a name=\"CGA-Points\"></a>\n",
    "\n",
    "[Go to Top](#TOP)\n",
    "\n",
    "A point $x = (x_1,x_2,x_3) = x_1e_1+x_2e_2+x_3e_3$ of the original space is *up-projected* into a conformal vector $X$,  defined as\n",
    "\n",
    "\\begin{align}\n",
    "X &= x + \\frac{1}{2} x^2 e_{\\infty} +e_o \\\\\n",
    "&= x_1e_1+x_2e_2+x_3e_3 + \\frac{1}{2}(x_1^2+x_2^2+x_3^2)e_{\\infty}+e_o\n",
    "\\end{align}"
   ]
  },
  {
   "cell_type": "markdown",
   "metadata": {},
   "source": [
    "### 5.B Spheres <a name=\"CGA-Spheres\"></a>\n",
    "\n",
    "[Go to Top](#TOP)\n",
    "\n",
    "A sphere $s$ of the original space, centered at  $x = (x_1,x_2,x_3)$ with radius $r$ is *up-projected* into a conformal vector $S$,  defined as\n",
    "\n",
    "\\begin{align}\n",
    "S &= X - \\frac{1}{2} r^2 e_{\\infty} \\\\\n",
    "&= x_1e_1+x_2e_2+x_3e_3 + \\frac{1}{2}(x_1^2+x_2^2+x_3^2-r^2)e_{\\infty}+e_o,\n",
    "\\end{align}\n",
    "\n",
    "where $X$ is the image of $x$ in CGA. "
   ]
  },
  {
   "cell_type": "markdown",
   "metadata": {},
   "source": [
    "### 5.C Planes <a name=\"CGA-Planes\"></a>\n",
    "\n",
    "[Go to Top](#TOP)\n",
    "\n",
    "\n",
    "A plane $\\pi$ of the original space, perpendicular to the **normal** vector  $\\vec n = (n_1,n_2,n_3)$, such that $d(\\pi,O)=d$ (where $d(\\cdot,\\cdot)$ is the Euclidean distance) is *up-projected* into a conformal vector $\\Pi$,  defined as\n",
    "\n",
    "\\begin{align}\n",
    "\\Pi &= n + de_{\\infty} \\\\\n",
    "&= n_1e_1 + n_2e_2 + n_3e_3 + de_{\\infty}.\n",
    "\\end{align}"
   ]
  },
  {
   "cell_type": "markdown",
   "metadata": {},
   "source": [
    "## 6. Vector Objects - Clifford implementation <a name=\"Clifford-VectorObjects\"></a>\n",
    "\n",
    "[Go to Top](#TOP)"
   ]
  },
  {
   "cell_type": "code",
   "execution_count": null,
   "metadata": {},
   "outputs": [],
   "source": [
    "\n",
    "\n",
    "import sys\n",
    "# !conda install --yes --prefix {sys.prefix} numpy\n",
    "# !conda install -c conda-forge --yes --prefix {sys.prefix} clifford\n",
    "\n",
    "import warnings\n",
    "warnings.filterwarnings('ignore')"
   ]
  },
  {
   "cell_type": "code",
   "execution_count": null,
   "metadata": {},
   "outputs": [],
   "source": [
    "# FOR VISUALIZATION\n",
    "\n",
    "from pyganja import *  "
   ]
  },
  {
   "cell_type": "code",
   "execution_count": null,
   "metadata": {},
   "outputs": [],
   "source": [
    "\n",
    "import numpy as np\n",
    "# from clifford.g3 import *\n",
    "from clifford.g3c import *\n",
    "# from clifford.tools.g3 import *\n",
    "from clifford.tools.g3c import *\n",
    "from clifford import Cl, conformalize\n",
    "\n",
    "#todo : not all of the above is needed\n",
    "\n",
    "G3, blades_g3 = Cl(3)\n",
    "\n",
    "# blades_g3 # inspect the G3 blades\n",
    "\n",
    "G3c, blades_g3c, stuff = conformalize(G3)\n",
    "\n",
    "# blades_g3c   #inspect the CGA blades"
   ]
  },
  {
   "cell_type": "markdown",
   "metadata": {},
   "source": [
    "Let us inspect stuff:"
   ]
  },
  {
   "cell_type": "code",
   "execution_count": null,
   "metadata": {},
   "outputs": [],
   "source": [
    "stuff"
   ]
  },
  {
   "cell_type": "markdown",
   "metadata": {},
   "source": [
    "It contains the following:\n",
    "\n",
    "* `ep` - positive basis vector, i.e., ep is $e_+$.\n",
    "* `en` - negative basis vector, i.e., en is $e_-$.\n",
    "* `eo` - zero vector of null basis, i.e., eo is $e_o$.\n",
    "* `einf` - infinity vector of null basis, i.e., einf is $e_{\\infty}$.\n",
    "* `E0` - minkowski bivector (=einf^eo)\n",
    "* `up()` - function to up-project a vector from GA to CGA\n",
    "* `down()` - function to down-project a vector from CGA to GA\n",
    "* `homo()` - function to homogenize a CGA vector"
   ]
  },
  {
   "cell_type": "code",
   "execution_count": null,
   "metadata": {},
   "outputs": [],
   "source": [
    "locals().update(blades_g3c)"
   ]
  },
  {
   "cell_type": "markdown",
   "metadata": {},
   "source": [
    "### 6.A Implementation of Points <a name=\"Clifford-Points\"></a>\n",
    "\n",
    "[Go to Top](#TOP)"
   ]
  },
  {
   "cell_type": "code",
   "execution_count": null,
   "metadata": {
    "tags": []
   },
   "outputs": [],
   "source": [
    "x = np.random.rand(3)\n",
    "point = x[0]*e1+x[1]*e2+x[2]*e3\n",
    "print('point in R3= ', point)"
   ]
  },
  {
   "cell_type": "code",
   "execution_count": null,
   "metadata": {
    "tags": []
   },
   "outputs": [],
   "source": [
    "P = up(point)\n",
    "print('same point in R4,1= ', P)"
   ]
  },
  {
   "cell_type": "code",
   "execution_count": null,
   "metadata": {},
   "outputs": [],
   "source": [
    "draw([P])"
   ]
  },
  {
   "cell_type": "code",
   "execution_count": null,
   "metadata": {},
   "outputs": [],
   "source": [
    "assert(P == point + 1/2*(x[0]**2+x[1]**2+x[2]**2)*einf + eo)\n",
    "assert(down(P) == point)"
   ]
  },
  {
   "cell_type": "markdown",
   "metadata": {},
   "source": [
    "A non-homogeneous vector in CGA is a vector where the coefficient of $e_o$ is $\\neq\\{0,1\\}$."
   ]
  },
  {
   "cell_type": "code",
   "execution_count": null,
   "metadata": {
    "tags": []
   },
   "outputs": [],
   "source": [
    "P2=2*P\n",
    "print('A non-homogenous point = ',P2)"
   ]
  },
  {
   "cell_type": "code",
   "execution_count": null,
   "metadata": {},
   "outputs": [],
   "source": [
    "draw([P2,P]) # two points coincide"
   ]
  },
  {
   "cell_type": "markdown",
   "metadata": {},
   "source": [
    "The function `homo` returns the respective homogeneous vector of the input one."
   ]
  },
  {
   "cell_type": "code",
   "execution_count": null,
   "metadata": {
    "tags": []
   },
   "outputs": [],
   "source": [
    "print(homo(P2))\n",
    "assert(homo(P2)==P)"
   ]
  },
  {
   "cell_type": "markdown",
   "metadata": {},
   "source": [
    "### 6.B Implementation of Spheres <a name=\"Clifford-Spheres\"></a>\n",
    "\n",
    "[Go to Top](#TOP)"
   ]
  },
  {
   "cell_type": "code",
   "execution_count": null,
   "metadata": {
    "tags": []
   },
   "outputs": [],
   "source": [
    "x = np.random.random(3)\n",
    "r = np.random.random()\n",
    "center = x[0]*e1+x[1]*e2+x[2]*e3\n",
    "print('center = ', center, '\\nradius = ', r)"
   ]
  },
  {
   "cell_type": "code",
   "execution_count": null,
   "metadata": {
    "tags": []
   },
   "outputs": [],
   "source": [
    "s = up(center)-1/2*r**2*einf\n",
    "print('the vector of the sphere s in R4,1 = ', s)"
   ]
  },
  {
   "cell_type": "code",
   "execution_count": null,
   "metadata": {},
   "outputs": [],
   "source": [
    "draw([s])"
   ]
  },
  {
   "cell_type": "code",
   "execution_count": null,
   "metadata": {
    "tags": []
   },
   "outputs": [],
   "source": [
    "print(down(s))\n",
    "assert(down(s)==center)"
   ]
  },
  {
   "cell_type": "markdown",
   "metadata": {},
   "source": [
    "### 6.C Implementation of Planes <a name=\"Clifford-Planes\"></a>\n",
    "\n",
    "[Go to Top](#TOP)"
   ]
  },
  {
   "cell_type": "code",
   "execution_count": null,
   "metadata": {
    "tags": []
   },
   "outputs": [],
   "source": [
    "n = np.random.random(3)\n",
    "d = np.random.random()\n",
    "vector = n[0]*e1+n[1]*e2+n[2]*e3\n",
    "print('vector perpendicular to plane= ', vector, '\\ndistance of plane from origin= ', d)"
   ]
  },
  {
   "cell_type": "code",
   "execution_count": null,
   "metadata": {
    "tags": []
   },
   "outputs": [],
   "source": [
    "plane = vector+d*einf\n",
    "print('the vector of the plane in R4,1 = ', s)"
   ]
  },
  {
   "cell_type": "code",
   "execution_count": null,
   "metadata": {},
   "outputs": [],
   "source": [
    "draw([plane.dual()]) # to print P via the draw function, we have to draw it's dual"
   ]
  },
  {
   "cell_type": "markdown",
   "metadata": {},
   "source": [
    "**Note** that you cannot down-project a vector of CGA whose coordinate of $e_o$ is $0$."
   ]
  },
  {
   "cell_type": "markdown",
   "metadata": {},
   "source": [
    "## 7. Products in $\\mathbb{R}_{4,1}$ <a name=\"Products\"></a>\n",
    "\n",
    "[Go to Top](#TOP)\n",
    "\n",
    "There are 3 major products in $\\mathbb{R}_{4,1}$: the inner, the outer and the geometric. Each of these products is initially defined among the vectors of either base of the space, i.e., $\\{e_1,e_2,e_3,e_-,e_+,e_o,e_{\\infty}\\}$. Their definition is then extended to included any vector (or multi-vector) of the space."
   ]
  },
  {
   "cell_type": "markdown",
   "metadata": {},
   "source": [
    "### 7.A Inner Product <a name=\"Products-Inner\"></a>\n",
    "\n",
    "[Go to Top](#TOP)\n",
    "\n",
    "The inner product (denoted by $|$) of the basis elements is defined as follows:\n",
    "* $e_i|e_j=\\delta_{ij}$ for $i,j\\in\\{1,2,3,+\\}$\n",
    "* $e_-|e_-=-1$\n",
    "* $e_-|e_j=0$ for $j\\in\\{1,2,3,+\\}$\n",
    "* $e_o|e_o=e_{\\infty}|e_{\\infty}=0$\n",
    "* $e_o|e_{\\infty}=-1$\n",
    "* $e_i|e_j=0$ for $i\\in\\{1,2,3,+\\}$ and $j\\in\\{o,\\infty\\}$\n",
    "\n"
   ]
  },
  {
   "cell_type": "code",
   "execution_count": null,
   "metadata": {},
   "outputs": [],
   "source": [
    "e3|einf # inner product"
   ]
  },
  {
   "cell_type": "code",
   "execution_count": null,
   "metadata": {},
   "outputs": [],
   "source": [
    "eo|einf"
   ]
  },
  {
   "cell_type": "markdown",
   "metadata": {},
   "source": [
    "### 7.B Geometric Product <a name=\"Products-Geometric\"></a>\n",
    "\n",
    "[Go to Top](#TOP)\n",
    "\n",
    "More details in later Sections, if needed."
   ]
  },
  {
   "cell_type": "code",
   "execution_count": null,
   "metadata": {
    "scrolled": true
   },
   "outputs": [],
   "source": [
    "e1*e2 # geometric product"
   ]
  },
  {
   "cell_type": "markdown",
   "metadata": {},
   "source": [
    "One of the most common use of the geometric product is the evaluation of the dual of an object - multivector."
   ]
  },
  {
   "cell_type": "markdown",
   "metadata": {},
   "source": [
    "### Duality <a name=\"Duality\"></a>\n",
    "\n",
    "[Go to Top](#TOP)\n",
    "\n",
    "The dual operator * is used to calculate the dual $O^\\star$ of a multivector $O$ where \n",
    "\n",
    "$$O^\\star:=-O\\cdot I,$$ \n",
    "\n",
    "where $I:=e_1\\wedge e_2\\wedge e_3\\wedge e_+\\wedge e_- = e_1\\wedge e_2\\wedge e_3\\wedge e_{\\infty}\\wedge e_o $ and $\\cdot$ is the geometric product. The function `dual()` can be used to directly evaluate the dual of an object."
   ]
  },
  {
   "cell_type": "code",
   "execution_count": null,
   "metadata": {
    "tags": []
   },
   "outputs": [],
   "source": [
    "O1 = random_sphere() \n",
    "O2 = random_plane()\n",
    "O = O1*O2  # we created a random multivector O\n",
    "print( 'An object: \\nO=', O, '\\n\\nIt\\'s dual: \\nO*=', O.dual() )\n",
    "\n",
    "\n",
    "I = e1^e2^e3^e4^e5 # e4 = e+,  e5 = e-\n",
    "assert( O.dual() == -O*I ) #   * = geometric product \n",
    "\n",
    "\n",
    "I = e1^e2^e3^e4^e5 # e4 = e+,  e5 = e-\n",
    "I2 = e1^e2^e3^einf^eo\n",
    "assert( I == I2 )"
   ]
  },
  {
   "cell_type": "markdown",
   "metadata": {},
   "source": [
    "**Remark** It holds that $$\\left(O^\\star\\right)^\\star = - O$$"
   ]
  },
  {
   "cell_type": "code",
   "execution_count": null,
   "metadata": {},
   "outputs": [],
   "source": [
    "assert(O.dual().dual() == -O)"
   ]
  },
  {
   "cell_type": "markdown",
   "metadata": {},
   "source": [
    "### 7.C Outer Product <a name=\"Products-Outer\"></a>\n",
    "\n",
    "[Go to Top](#TOP)\n",
    "\n",
    "The outer product of $n$ different vectors of the basis form $n$-vectors (in bibliography these are called `$n$-blades`, or blades of degree $n$) for $n\\in\\{2,3,4,5\\}$. Swapping the order of two consecutive vectors changes the sign of the corresponding blade. A sum of blades of different degrees is what we call a `multivector` .\n",
    "\n",
    "In Python, a blade is always printed as an outer product of the original $e_i$ vectors, $i\\in\\{1,2,3,4,5\\}$, where $e_4\\equiv e_+$ and $e_5\\equiv e_-$. The vector $e_1\\wedge e_2\\wedge e_3$ is abbreviated as $e123$, $e12$ corresponds to $e_1\\wedge e_2$ and so on."
   ]
  },
  {
   "cell_type": "code",
   "execution_count": null,
   "metadata": {},
   "outputs": [],
   "source": [
    "e1^e2 # outer product"
   ]
  },
  {
   "cell_type": "code",
   "execution_count": null,
   "metadata": {},
   "outputs": [],
   "source": [
    "e1^e2^e3^e4^e5 # more products"
   ]
  },
  {
   "cell_type": "code",
   "execution_count": null,
   "metadata": {},
   "outputs": [],
   "source": [
    "e2^e1"
   ]
  },
  {
   "cell_type": "code",
   "execution_count": null,
   "metadata": {},
   "outputs": [],
   "source": [
    "eo^e1"
   ]
  },
  {
   "cell_type": "markdown",
   "metadata": {},
   "source": [
    "The most important property of the outer product is that it represents, in a sense and in certain occasions, the _intersection_ of (specific) objects. For example, a circle can be described (in CGA) as the intersection-outer product of two spheres and a line as the intersection of two planes. There is also a new geometric object called `Point Pair`, which is a set of two points. A point pair can be described in CGA as the intersection of 3 spheres."
   ]
  },
  {
   "cell_type": "markdown",
   "metadata": {},
   "source": [
    "## 8. Implementation of Circles as Intersection of Spheres <a name=\"CirclesAsIntersectionOfSpheres\"></a>\n",
    "\n",
    "[Go to Top](#TOP)"
   ]
  },
  {
   "cell_type": "code",
   "execution_count": null,
   "metadata": {
    "tags": []
   },
   "outputs": [],
   "source": [
    "S1 = up(0)-1/2*5**2*einf # sphere centered at (0,0,0), radius 5\n",
    "S2 = up(e1+e2)-1/2*3**2*einf # sphere centered at (1,1,0), radius 3\n",
    "print('S1=', S1,'\\nS2=', S2)\n",
    "print('\\nThe circle C that corresponds to their intersection = ', S1^S2)"
   ]
  },
  {
   "cell_type": "code",
   "execution_count": null,
   "metadata": {
    "tags": []
   },
   "outputs": [],
   "source": [
    "S1 = random_sphere().dual() # random_OBJECT returns the dual form of a random multivector of type OBJECT\n",
    "S2 = random_sphere().dual()\n",
    "print('S1=', S1,'\\nS2=', S2)\n",
    "print('\\nThe circle C that corresponds to their intersection = ', S1^S2)"
   ]
  },
  {
   "cell_type": "code",
   "execution_count": null,
   "metadata": {
    "scrolled": false
   },
   "outputs": [],
   "source": [
    "gs = GanjaScene()\n",
    "gs.add_objects([S1,S2],color=Color.GREEN)\n",
    "gs.add_objects([(S1^S2).dual()],color=Color.BLUE) # we have to draw the dual of the sphere to visualize it\n",
    "draw(gs)\n",
    "# draw([S1,S2])\n",
    "# draw([(S1^S2).dual()])"
   ]
  },
  {
   "cell_type": "markdown",
   "metadata": {},
   "source": [
    "## 9. Implementation of Lines as Intersection of Planes <a name=\"LinesAsIntersectionOfPlanes\"></a>\n",
    "\n",
    "[Go to Top](#TOP)"
   ]
  },
  {
   "cell_type": "code",
   "execution_count": null,
   "metadata": {
    "tags": []
   },
   "outputs": [],
   "source": [
    "P1 = e1+3*einf # plane perpendicular to (1,0,0), with d(P1,0)=3\n",
    "P2 = -e2+5*einf # plane perpendicular to (0,-1,0), with d(P1,0)=5\n",
    "print('P1=', P1,'\\nP2=', P2)\n",
    "print('\\nThe line L that corresponds to their intersection = ', P1^P2)"
   ]
  },
  {
   "cell_type": "code",
   "execution_count": null,
   "metadata": {
    "tags": []
   },
   "outputs": [],
   "source": [
    "P1 = random_plane().dual()\n",
    "P2 = random_plane().dual()\n",
    "print('P1=', P1,'\\nP2=', P2)\n",
    "print('\\nThe line L that corresponds to their intersection = ', P1^P2)"
   ]
  },
  {
   "cell_type": "code",
   "execution_count": null,
   "metadata": {},
   "outputs": [],
   "source": [
    "gs2 = GanjaScene()\n",
    "gs2.add_objects([P1.dual(),P2.dual()],color=Color.GREEN)\n",
    "gs2.add_objects([(P1^P2).dual()],color=Color.BLUE) # we have to draw the dual of the sphere to visualize it\n",
    "draw(gs2)"
   ]
  },
  {
   "cell_type": "markdown",
   "metadata": {},
   "source": [
    "## 10. Implementation of PointPairs as Intersection of Spheres <a name=\"PointPairsAsIntersectionOfSpheres\"></a>\n",
    "\n",
    "[Go to Top](#TOP)"
   ]
  },
  {
   "cell_type": "code",
   "execution_count": null,
   "metadata": {
    "tags": []
   },
   "outputs": [],
   "source": [
    "S1 = up(0)-1/2*2**2*einf # sphere centered at (0,0,0), radius 2\n",
    "S2 = up(e1+e2)-1/2*3**2*einf # sphere centered at (1,1,0), radius 3\n",
    "S3 = up(e1+e2-2*e3)-1/2*3**2*einf # sphere centered at (1,1,-2), radius 3\n",
    "print('S1=', S1,'\\nS2=', S2,'\\nS3=', S3)\n",
    "print('\\nThe point pair that corresponds to their intersection = ', S1^S2^S3)"
   ]
  },
  {
   "cell_type": "code",
   "execution_count": null,
   "metadata": {},
   "outputs": [],
   "source": [
    "gs3 = GanjaScene()\n",
    "gs3.add_objects([(S1^S2^S3).dual()],color=Color.BLUE) # we have to draw the dual of the sphere to visualize it\n",
    "gs3.add_objects([S1],color=Color.RED)\n",
    "gs3.add_objects([S2],color=Color.GREEN)\n",
    "gs3.add_objects([S3],color=Color.MAGENTA)\n",
    "draw(gs3,scale=0.25)"
   ]
  },
  {
   "cell_type": "code",
   "execution_count": null,
   "metadata": {
    "tags": []
   },
   "outputs": [],
   "source": [
    "S1 = random_sphere().dual()\n",
    "S2 = random_sphere().dual()\n",
    "S3 = random_sphere().dual()\n",
    "print('S1=', S1,'\\nS2=', S2,'\\nS3=', S3)\n",
    "print('\\nThe point pair that corresponds to their intersection = ', S1^S2^S3)"
   ]
  },
  {
   "cell_type": "markdown",
   "metadata": {},
   "source": [
    "## 11. Dual objects representation <a name=\"DualObjects\"></a>\n",
    "\n",
    "[Go to Top](#TOP)\n",
    "\n",
    "In this section, we provide an alternative way to define spheres, planes, circles, lines and point pairs via their dual representation. "
   ]
  },
  {
   "cell_type": "markdown",
   "metadata": {},
   "source": [
    "### 11.A Implementation of a dual Sphere <a name=\"DualObjects-Sphere\"></a>\n",
    "\n",
    "[Go to Top](#TOP)\n",
    "\n",
    "If $S$ is a sphere, then we can define it's dual $S^\\star$ as the outer product of 4 points lying on it's boundary.\n"
   ]
  },
  {
   "cell_type": "code",
   "execution_count": null,
   "metadata": {
    "tags": []
   },
   "outputs": [],
   "source": [
    "S_dual = up(3*e1+4*e2)^up(3*e2+4*e3)^up(5*e1)^up(3*e1+4*e3) #sphere that goes through (3,4,0),(0,3,4),(5,0,0),(3,0,4)\n",
    "print(S_dual.normal())\n",
    "S = up(0)-1/2*5**2*einf # sphere centered at (0,0,0), radius sqrt(5)\n",
    "print(S.dual().normal())\n"
   ]
  },
  {
   "cell_type": "markdown",
   "metadata": {},
   "source": [
    "Note that in the code above, we used the function `normal()` to actually create objects of magnitude (norm of some kind) = $\\pm$ 1. Since we are in a projection space the objects $O,-5O$ and $3O$ correspond to the same object with different magnitude/orientation. \n",
    "\n",
    "So two objects can be the same but not necessarily have the same magnitude/orientation! \n",
    "For example, the objects $e_1+e_{\\infty}, \\ 2e_1+2e_{\\infty}$ and $-5e_1+-5e_{\\infty}$ all correspond to the same plane!"
   ]
  },
  {
   "cell_type": "markdown",
   "metadata": {},
   "source": [
    "### 11.B Implementation of a dual Circle <a name=\"DualObjects-Circle\"></a>\n",
    "\n",
    "[Go to Top](#TOP)\n",
    "\n",
    "If $C$ is a sphere, then we can define it's dual $C^\\star$ as the outer product of 3 points lying on it's boundary."
   ]
  },
  {
   "cell_type": "code",
   "execution_count": null,
   "metadata": {
    "scrolled": true,
    "tags": []
   },
   "outputs": [],
   "source": [
    "p1 = up(3*e1+4*e2)\n",
    "p2 = up(3*e2+4*e3)\n",
    "p3 = up(5*e1)\n",
    "p4 = up(3*e1+4*e3)\n",
    "p5 = up(4*e1+4*e3)\n",
    "\n",
    "C_dual = p1^p2^p3 #circle that goes through (3,4,0),(0,3,4),(5,0,0)\n",
    "print(C_dual.dual().normal())\n",
    "\n",
    "# This circle C can also be seen as the intersection of the following spheres\n",
    "\n",
    "S1_dual = p1^p2^p3^p4 #sphere that goes through (3,4,0),(0,3,4),(5,0,0),(3,0,4)\n",
    "S2_dual = p1^p2^p3^p5 #sphere that goes through (3,4,0),(0,3,4),(5,0,0),(4,0,4)\n",
    "C = S1_dual.dual()^S2_dual.dual()\n",
    "print(C.normal())\n",
    "\n",
    "assert(C_dual.dual().normal() == C.normal() or C_dual.dual().normal() == -C.normal()  )"
   ]
  },
  {
   "cell_type": "code",
   "execution_count": null,
   "metadata": {
    "scrolled": false
   },
   "outputs": [],
   "source": [
    "gs3 = GanjaScene()\n",
    "gs3.add_objects([p1,p2,p3,p4,p5],color=Color.RED)\n",
    "gs3.add_objects([C.dual()],color=Color.BLACK)\n",
    "gs3.add_objects([S1_dual],color=Color.MAGENTA)\n",
    "gs3.add_objects([S2_dual],color=Color.CYAN)\n",
    "draw(gs3,scale=0.15)"
   ]
  },
  {
   "cell_type": "markdown",
   "metadata": {},
   "source": [
    "### 11.C Implementation of a dual Plane <a name=\"DualObjects-Plane\"></a>\n",
    "\n",
    "[Go to Top](#TOP)\n",
    "\n",
    "If $P$ is a plane, then we can define it's dual $P^\\star$ can be seen as the dual of an infinite sphere, i.e., the outer product of 3 points lying on the plane and $e_{\\infty}$.\n"
   ]
  },
  {
   "cell_type": "code",
   "execution_count": null,
   "metadata": {
    "tags": []
   },
   "outputs": [],
   "source": [
    "P_dual = up(3*e1+4*e2)^up(3*e2+4*e3)^up(5*e1)^einf #plane that goes through (3,4,0),(0,3,4),(5,0,0) (and infinity)\n",
    "print(P_dual.normal())"
   ]
  },
  {
   "cell_type": "code",
   "execution_count": null,
   "metadata": {},
   "outputs": [],
   "source": [
    "draw([P_dual])"
   ]
  },
  {
   "cell_type": "markdown",
   "metadata": {},
   "source": [
    "### 11.D Implementation of a dual Line <a name=\"DualObjects-Line\"></a>\n",
    "\n",
    "[Go to Top](#TOP)\n",
    "\n",
    "If $L$ is a plane, then we can define it's dual $L^\\star$ can be seen as the dual of an infinite circle, i.e., the outer product of 2 points lying on the line and $e_{\\infty}$.\n"
   ]
  },
  {
   "cell_type": "code",
   "execution_count": null,
   "metadata": {
    "tags": []
   },
   "outputs": [],
   "source": [
    "p1 = up(3*e1+4*e2)\n",
    "p2 = up(3*e1+5*e2+2*e3)\n",
    "\n",
    "L_dual = (p1)^(p2)^einf #line that goes through (3,4,0),(3,5,2) (and infinity)\n",
    "print(L_dual.normal())"
   ]
  },
  {
   "cell_type": "code",
   "execution_count": null,
   "metadata": {},
   "outputs": [],
   "source": [
    "draw([p1,p2,L_dual],scale=0.15)\n"
   ]
  },
  {
   "cell_type": "markdown",
   "metadata": {},
   "source": [
    "## 12. Complex Numbers are bivectors in CGA <a name=\"ComplexNumbersAreBivectors\"></a>\n",
    "\n",
    "[Go to Top](#TOP)\n",
    "\n",
    "Given an orthonomal $\\{e_1,e_2,e_3\\}$ basis of a 3-dimensional GA, we can define the quantities $i,j$ and $k$ as follows:\n",
    "\n",
    "$$ i = e_1\\wedge e_2, \\quad j = e_1\\wedge e_3, \\quad k = e_2\\wedge e_3.$$\n",
    "\n",
    "Given their definition, the following properties hold\n",
    "\n",
    "\n",
    "\\begin{align}\n",
    "i^2 & = (e_1\\wedge e_2)^2 = e_1e_2\\underbrace{e_1e_2}_{-e_2e_1} = -e_1\\underbrace{e_2e_2}_{1}e_1 = -\\underbrace{e_1e_1}_{1} = -1 \\\\\n",
    "j^2 & = (e_1\\wedge e_3)^2 = e_1e_3\\underbrace{e_1e_3}_{-e_3e_1} = -e_1\\underbrace{e_3e_3}_{1}e_1 = -\\underbrace{e_1e_1}_{1} = -1 \\\\\n",
    "k^2 & = (e_2\\wedge e_3)^2 = e_2e_3\\underbrace{e_2e_3}_{-e_3e_2} = -e_2\\underbrace{e_3e_3}_{1}e_2 = -\\underbrace{e_2e_2}_{1} = -1 \\\\\n",
    "ij & = (e_1\\wedge e_2)(e_1\\wedge e_3) = e_1\\underbrace{e_2e_1}_{-e_1e_2}e_3 = -\\underbrace{e_1e_1}_{1}e_2e_3 = -e_2\\wedge e_3 = -k \\\\\n",
    "jk & = (e_1\\wedge e_3)(e_2\\wedge e_3) = e_1\\underbrace{e_3e_2}_{-e_2e_3}e_3 = -e_1e_2\\underbrace{e_3e_3}_{1} = -e_1\\wedge e_2 = -i \\\\\n",
    "ki & = (e_2\\wedge e_3)(e_1\\wedge e_2) = \\underbrace{e_2e_3}_{-e_3e_2}\\underbrace{e_1e_2}_{-e_2e_1} = e_3\\underbrace{e_2e_2}_{1}e_1 = -e_1\\wedge e_3 = -j \\\\\n",
    "ijk & = ii = -1\n",
    "\\end{align}\n",
    "\n",
    "It also holds that $$ji=k,\\quad kj=i  \\quad \\text{ and} \\quad ik =j. $$\n",
    "\n",
    "The properties of $i,j$ and $k$ defined above coincide with the properties of the imaginary units $i,j$ and $k$ that are introduced during the definition of a quaternion. Consequently, we have proven that the quaternion algebra ($\\mathbb{H}$) is contained in GA (which is contained in CGA).\n",
    "\n",
    "Based on the following remarks, a quaternion \n",
    "\n",
    "$$Q = q_o + q_1 i + q_2 j + q_3 k,$$ \n",
    "\n",
    "where $q_i\\in\\mathbb{R}$, is an _even_ multivector, i.e., a sum of blades of even degree (0 or 2). \n",
    "\n",
    "\n",
    "\n",
    "\n"
   ]
  },
  {
   "cell_type": "markdown",
   "metadata": {},
   "source": [
    "## 13. Translators <a name=\"Translators\"></a>\n",
    "\n",
    "[Go to Top](#TOP)\n",
    "\n",
    "Here is the Translation formula in CGA\n",
    ":\n",
    "\\begin{equation}\n",
    "T = exp(- \\frac{1}{2}te_{\\infty}) = 1 - \\frac{1}{2}te_{\\infty},\n",
    "\\end{equation}\n",
    "\n",
    "where $t = t_1e_1+t_2e_2+t_2e_2$ is the translation vector. The a rigid object $O$ is translated to \n",
    "$O_2$ via the operation $O_2 = TO\\tilde{T}$."
   ]
  },
  {
   "cell_type": "code",
   "execution_count": null,
   "metadata": {
    "tags": []
   },
   "outputs": [],
   "source": [
    "import numpy as np\n",
    "# from clifford.g3 import *\n",
    "from clifford.g3c import *\n",
    "# from clifford.tools.g3 import *\n",
    "from clifford.tools.g3c import *\n",
    "from clifford import Cl, conformalize\n",
    "from numpy import e,pi\n",
    "\n",
    "#todo : not all of the above is needed\n",
    "\n",
    "G3, blades_g3 = Cl(3)\n",
    "\n",
    "# blades_g3 # inspect the G3 blades\n",
    "\n",
    "G3c, blades_g3c, stuff = conformalize(G3)\n",
    "\n",
    "# blades_g3c   #inspect the CGA blades\n",
    "\n",
    "t = 3*e1 # translation vector (3,0,0)\n",
    "T = e**(-1/2*t*einf) # translator\n",
    "print('Translator = ',T)\n",
    "O = up(e1+2*e2+5*e3) # our object: the point (1,2,5)\n",
    "O_2 = T*O*~T # aplying the translator\n",
    "print( down(O_2)) # the translated object"
   ]
  },
  {
   "cell_type": "markdown",
   "metadata": {},
   "source": [
    "## 14. Rotors <a name=\"Rotors\"></a>\n",
    "\n",
    "[Go to Top](#TOP)\n",
    "\n",
    "Here is the Rotation formula in CGA\n",
    ":\n",
    "\\begin{equation}\n",
    "R = exp(- b\\frac{\\phi}{2}) = exp(- I_3u\\frac{\\phi}{2}) = cos(\\frac{\\phi}{2}) - uI_3sin(\\frac{\\phi}{2}),\n",
    "\\end{equation}\n",
    "\n",
    "where \n",
    "* $\\phi$ is the angle of the rotation\n",
    "* $b$ is the normalized plane of the rotation\n",
    "* $u$ is the normalized axis of the rotation\n",
    "* $I_3=e_1e_2e_3$ \n",
    "\n",
    "The a rigid object $O$ is rotated to $O_2$ via the operation $O_2 = RO\\tilde{R}$.\n",
    "\n",
    "Note that the Rotation formula can be applied in both GA and CGA. "
   ]
  },
  {
   "cell_type": "code",
   "execution_count": null,
   "metadata": {
    "tags": []
   },
   "outputs": [],
   "source": [
    "# example, p35, from 02\n",
    "phi = 2*pi/3 # rotation angle\n",
    "u = (e1+e2+e3) # vector (1,1,1)\n",
    "u = u/norm(u) # normalized vector (1,1,1)\n",
    "I3 = e1*e2*e3 # I3, note that *=geometric product\n",
    "# Note that (u*I3)*(u*I3) = -1\n",
    "# print((u*I3)*(u*I3))\n",
    "\n",
    "R = e**(-(u*I3)*(phi/2)) # rotor\n",
    "print ('Rotor = ',R)\n",
    "assert(R == np.cos(phi/2)-u*I3*np.sin(phi/2))\n",
    "\n",
    "O = 5*e1 # our object: the point (5,0,0)\n",
    "print ('Original Point-Object = ', O)\n",
    "O_2 = R*O*~R # aplying the rotor\n",
    "print( 'Rotated Point-object = ', O_2) # the rotated object, ie, the point (0,5,0)\n",
    "\n",
    "S = up(e1+3*e2)-1/2*1**2*einf\n",
    "S_2 = R*S*~R\n",
    "# S_3 = R*S_2*~R\n",
    "print ('Original Sphere Object = ', S)\n",
    "print ('Rotated Sphere Object = ', S_2)"
   ]
  },
  {
   "cell_type": "code",
   "execution_count": null,
   "metadata": {},
   "outputs": [],
   "source": [
    "gs = GanjaScene()\n",
    "gs.add_objects([up(4*u)^up(0)],color=Color.BLUE) # the axis of rotation\n",
    "gs.add_objects([up(O),S],color=Color.RED)\n",
    "gs.add_objects([up(O_2),S_2],color=Color.GREEN)\n",
    "# gs.add_objects([S_3],color=Color.MAGENTA)\n",
    "draw(gs,scale=0.2)"
   ]
  },
  {
   "cell_type": "code",
   "execution_count": null,
   "metadata": {
    "tags": []
   },
   "outputs": [],
   "source": [
    "# example 2, p66, from 02\n",
    "phi = 2*pi/3 # rotation angle\n",
    "b = e1*e2 # normalized plane of the rotation\n",
    "R = e**(-b*(phi/2)) # rotor\n",
    "a = e1+e3 # vector (1,0,1)\n",
    "print(R*a*~R) # rotated object"
   ]
  },
  {
   "cell_type": "markdown",
   "metadata": {},
   "source": [
    "## 15. Dilations<a name=\"Dilations\"></a>\n",
    "\n",
    "[Go to Top](#TOP)\n",
    "\n",
    "Here is the Dilation formula in CGA\n",
    ":\n",
    "\\begin{equation}\n",
    "D = 1 + \\frac{1-d}{1+d}e_\\infty\\wedge e_o,\n",
    "\\end{equation}\n",
    "\n",
    "where $d$ is the scale factor, i.e., $d=1$ will leave the object as it is. \n",
    "\n",
    "**Remark** The scaling is done with respect to the origin $e_o$."
   ]
  },
  {
   "cell_type": "code",
   "execution_count": null,
   "metadata": {
    "tags": []
   },
   "outputs": [],
   "source": [
    "scale_factor = 0.5\n",
    "D = 1 + ((1-scale_factor)/(1+scale_factor))*(einf^eo)\n",
    "print(D)"
   ]
  },
  {
   "cell_type": "code",
   "execution_count": null,
   "metadata": {},
   "outputs": [],
   "source": [
    "S = up(e1+3*e2)-1/2*1**2\n",
    "S_3 = D*S*~D\n",
    "\n",
    "draw([S,S_3],scale=0.25)"
   ]
  },
  {
   "cell_type": "markdown",
   "metadata": {},
   "source": [
    "## 16. Motors <a name=\"Motors\"></a>\n",
    "\n",
    "[Go to Top](#TOP)"
   ]
  },
  {
   "cell_type": "code",
   "execution_count": null,
   "metadata": {
    "tags": []
   },
   "outputs": [],
   "source": [
    "M = R*T\n",
    "print(M)"
   ]
  },
  {
   "cell_type": "code",
   "execution_count": null,
   "metadata": {},
   "outputs": [],
   "source": [
    "S = up(e1+3*e2)-1/2*1**2*einf\n",
    "S_4 = M*S*~M\n",
    "\n",
    "draw([S,S_4],scale=0.25)"
   ]
  },
  {
   "cell_type": "markdown",
   "metadata": {},
   "source": [
    "## 17. Rotating lines & Circles <a name=\"Rotating\"></a>\n",
    "[Go to Top](#TOP)"
   ]
  },
  {
   "cell_type": "code",
   "execution_count": null,
   "metadata": {
    "tags": []
   },
   "outputs": [],
   "source": [
    "line1 = (up(0)^up(e1)^einf).normal()\n",
    "print ('line1 ', line1)\n",
    "line2 = (up(0)^up(e2)^einf).normal()\n",
    "print ('line2 ', line2)\n",
    "\n",
    "R = 1 + line2*line1 # rotates line1 to line2\n",
    "print('R ',R)\n",
    "\n",
    "print((R*line1*~R).normal())"
   ]
  },
  {
   "cell_type": "code",
   "execution_count": null,
   "metadata": {
    "tags": []
   },
   "outputs": [],
   "source": [
    "# Rotate circles\n",
    "\n",
    "circle1 = (up(0)^up(e1)^up(e2)^einf).normal()\n",
    "print ('circle1 ', circle1)\n",
    "circle2 = (up(0)^up(e2)^up(e3)^einf).normal()\n",
    "print ('circle2 ', circle2)\n",
    "\n",
    "R = 1 + circle2*circle1 # rotates circle1 to circle2\n",
    "#R = R/abs(R)\n",
    "print('R ',R)\n",
    "\n",
    "print((R*circle1*~R).normal())"
   ]
  }
 ],
 "metadata": {
  "kernelspec": {
   "display_name": "elements",
   "language": "python",
   "name": "elements"
  },
  "language_info": {
   "codemirror_mode": {
    "name": "ipython",
    "version": 3
   },
   "file_extension": ".py",
   "mimetype": "text/x-python",
   "name": "python",
   "nbconvert_exporter": "python",
   "pygments_lexer": "ipython3",
   "version": "3.8.16"
  }
 },
 "nbformat": 4,
 "nbformat_minor": 4
}
